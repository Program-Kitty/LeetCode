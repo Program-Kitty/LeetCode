{
  "nbformat": 4,
  "nbformat_minor": 0,
  "metadata": {
    "colab": {
      "name": "Bloomberg.ipynb",
      "provenance": [],
      "collapsed_sections": [],
      "toc_visible": true,
      "authorship_tag": "ABX9TyNiYud/25zJqRaubVFXWXuD",
      "include_colab_link": true
    },
    "kernelspec": {
      "name": "python3",
      "display_name": "Python 3"
    }
  },
  "cells": [
    {
      "cell_type": "markdown",
      "metadata": {
        "id": "view-in-github",
        "colab_type": "text"
      },
      "source": [
        "<a href=\"https://colab.research.google.com/github/Program-Kitty/LeetCode/blob/master/Bloomberg.ipynb\" target=\"_parent\"><img src=\"https://colab.research.google.com/assets/colab-badge.svg\" alt=\"Open In Colab\"/></a>"
      ]
    },
    {
      "cell_type": "markdown",
      "metadata": {
        "id": "BAHxPEHgWLHF"
      },
      "source": [
        "# Sum"
      ]
    },
    {
      "cell_type": "markdown",
      "metadata": {
        "id": "sDmedH5qWOB3"
      },
      "source": [
        "## 2sum"
      ]
    },
    {
      "cell_type": "code",
      "metadata": {
        "id": "mh60frhYWFYN"
      },
      "source": [
        "# w/ duplicate\n",
        "from collections import Counter\n",
        "a = [1,1,3,3,3,3,11,11,11,11,-7,21,5]\n",
        "\n",
        "tar = 4\n",
        "s = Counter()\n",
        "ans = []\n",
        "for i in a:\n",
        "  if tar - i not in s:\n",
        "    s[i] += 1\n",
        "  else:\n",
        "    ans.append((min(tar - i, i), max(tar - i,i)))\n",
        "    s[tar - i] -= 1\n",
        "    if s[tar - i] == 0:\n",
        "      del s[tar - i]\n",
        "print(ans)"
      ],
      "execution_count": null,
      "outputs": []
    },
    {
      "cell_type": "code",
      "metadata": {
        "id": "ZCEQpyxPy0oX"
      },
      "source": [
        "# duplicate only print once\n",
        "a = [1,11,11,11,11,21,21,1,5]\n",
        "tar = 22\n",
        "s = set()\n",
        "ans = set()\n",
        "for i in a:\n",
        "  temp = tar - i\n",
        "  if temp in s and (min(temp, i), max(temp,i)) not in ans:\n",
        "    ans.add((min(temp, i), max(temp,i)))\n",
        "    s.remove(temp)\n",
        "  else:\n",
        "    s.add(i)\n",
        "print(list(ans))"
      ],
      "execution_count": null,
      "outputs": []
    },
    {
      "cell_type": "markdown",
      "metadata": {
        "id": "qVWTpGWJWQkH"
      },
      "source": [
        "## 3sum"
      ]
    },
    {
      "cell_type": "code",
      "metadata": {
        "id": "kXcDqmi8WR0K"
      },
      "source": [
        "class Solution:\n",
        "    def threeSum(self, nums: List[int]) -> List[List[int]]:\n",
        "        res = []\n",
        "        nums.sort()\n",
        "        for i in range(len(nums)):\n",
        "            if nums[i] > 0:\n",
        "                break\n",
        "            if i == 0 or nums[i - 1] != nums[i]:\n",
        "                self.twoSumII(nums, i, res)\n",
        "        return res\n",
        "\n",
        "    def twoSumII(self, nums: List[int], i: int, res: List[List[int]]):\n",
        "        lo, hi = i + 1, len(nums) - 1\n",
        "        while (lo < hi):\n",
        "            sum = nums[i] + nums[lo] + nums[hi]\n",
        "            if sum < 0:\n",
        "                lo += 1\n",
        "            elif sum > 0:\n",
        "                hi -= 1\n",
        "            else:\n",
        "                res.append([nums[i], nums[lo], nums[hi]])\n",
        "                lo += 1\n",
        "                hi -= 1\n",
        "                while lo < hi and nums[lo] == nums[lo - 1]:\n",
        "                    lo += 1"
      ],
      "execution_count": null,
      "outputs": []
    },
    {
      "cell_type": "markdown",
      "metadata": {
        "id": "aa5z0FG-kVzq"
      },
      "source": [
        "## Add Two Numbers\n",
        "\n",
        "https://leetcode.com/problems/add-two-numbers/"
      ]
    },
    {
      "cell_type": "code",
      "metadata": {
        "id": "eNQz6XapkaTQ"
      },
      "source": [
        "class Solution:\n",
        "    def addTwoNumbers(self, l1: ListNode, l2: ListNode, carry = 0) -> ListNode:\n",
        "        carry = 0\n",
        "        pseudohead = ListNode(0)\n",
        "        pt = pseudohead\n",
        "        \n",
        "        while l1 or l2 or carry:\n",
        "            v1 = v2 = 0\n",
        "            if l1:\n",
        "                v1 = l1.val\n",
        "                l1 = l1.next\n",
        "            if l2:\n",
        "                v2 = l2.val\n",
        "                l2 = l2.next\n",
        "            carry, val = (v1+v2+carry) // 10, (v1+v2+carry) % 10\n",
        "            pt.next = ListNode(val)\n",
        "            pt = pt.next\n",
        "        return pseudohead.next"
      ],
      "execution_count": null,
      "outputs": []
    },
    {
      "cell_type": "markdown",
      "metadata": {
        "id": "yLL88ys8I3Fl"
      },
      "source": [
        "## Add Two Numbers II\n",
        "\n",
        "https://leetcode.com/problems/add-two-numbers-ii/\n",
        "\n"
      ]
    },
    {
      "cell_type": "code",
      "metadata": {
        "id": "GGYqwFHTkasS"
      },
      "source": [
        "# reverse -> add -> reverse\n",
        "\n",
        "class Solution:\n",
        "    def addTwoNumbers(self, l1: ListNode, l2: ListNode) -> ListNode:\n",
        "        \n",
        "        def reverseList(head):\n",
        "            if not head:\n",
        "                return None\n",
        "\n",
        "            pre = None\n",
        "            pt = head\n",
        "\n",
        "            while pt:\n",
        "                temp = pt.next\n",
        "                pt.next = pre\n",
        "                pre = pt\n",
        "                pt = temp\n",
        "\n",
        "            return pre\n",
        "        \n",
        "        def addTwoNumbers(l1, l2, carry = 0):\n",
        "            carry = 0\n",
        "            pseudohead = ListNode(0)\n",
        "            pt = pseudohead\n",
        "\n",
        "            while l1 or l2 or carry:\n",
        "                v1 = v2 = 0\n",
        "                if l1:\n",
        "                    v1 = l1.val\n",
        "                    l1 = l1.next\n",
        "                if l2:\n",
        "                    v2 = l2.val\n",
        "                    l2 = l2.next\n",
        "                carry, val = (v1+v2+carry) // 10, (v1+v2+carry) % 10\n",
        "                pt.next = ListNode(val)\n",
        "                pt = pt.next\n",
        "            return pseudohead.next\n",
        "    \n",
        "        head1 = reverseList(l1)\n",
        "        head2 = reverseList(l2)\n",
        "        \n",
        "        ans = addTwoNumbers(head1, head2)\n",
        "        \n",
        "        return reverseList(ans)"
      ],
      "execution_count": null,
      "outputs": []
    },
    {
      "cell_type": "markdown",
      "metadata": {
        "id": "a4ENauuJWSbv"
      },
      "source": [
        "# Binary Tree"
      ]
    },
    {
      "cell_type": "markdown",
      "metadata": {
        "id": "UtgLBF44NW6y"
      },
      "source": [
        "## vertical traversal with order\n",
        "\n",
        "https://leetcode.com/problems/vertical-order-traversal-of-a-binary-tree/submissions/"
      ]
    },
    {
      "cell_type": "code",
      "metadata": {
        "id": "n1lCbEurWW7l"
      },
      "source": [
        "class Solution:\n",
        "    def verticalTraversal(self, root: TreeNode) -> List[List[int]]:\n",
        "        if not root:\n",
        "            return []\n",
        "        \n",
        "        leftmost, rightmost = 0,0\n",
        "        dic = {}\n",
        "        q = [(root, 0, 0)]\n",
        "        \n",
        "        while q:\n",
        "            node, x, y = q.pop(0)\n",
        "            if x not in dic:\n",
        "                dic[x] = [(y, node.val)]\n",
        "            else:\n",
        "                dic[x].append((y, node.val))\n",
        "            if node.left:\n",
        "                q.append((node.left, x-1, y+1)) # 这个地方要用y+1，否则会反\n",
        "                leftmost = min(leftmost, x-1)\n",
        "            if node.right:\n",
        "                q.append((node.right, x+1, y+1))\n",
        "                rightmost = max(rightmost, x+1)\n",
        "        #print(dic)\n",
        "        ans = []\n",
        "        \n",
        "        for i in range(leftmost, rightmost + 1):\n",
        "            ans.append([val for row, val in sorted(dic[i])])\n",
        "        \n",
        "        return ans"
      ],
      "execution_count": null,
      "outputs": []
    },
    {
      "cell_type": "markdown",
      "metadata": {
        "id": "KP-xF6W6NqZ4"
      },
      "source": [
        "## vertical traversal without order\n",
        "\n",
        "https://leetcode.com/problems/binary-tree-vertical-order-traversal/"
      ]
    },
    {
      "cell_type": "code",
      "metadata": {
        "id": "LYwyM_NxNoKU"
      },
      "source": [
        "class Solution:\n",
        "    def verticalOrder(self, root: TreeNode) -> List[List[int]]:\n",
        "        if not root:\n",
        "            return []\n",
        "        \n",
        "        dic = {}\n",
        "        q = [(root, 0)]\n",
        "        mincol, maxcol = 0,0\n",
        "        res = []\n",
        "        while q:\n",
        "            node, col = q.pop(0)\n",
        "            mincol = min(mincol, col)\n",
        "            maxcol = max(maxcol, col)\n",
        "            if node:\n",
        "                if col in dic:\n",
        "                    dic[col].append(node.val)\n",
        "                else:\n",
        "                    dic[col] = [node.val]\n",
        "                q.append((node.left, col-1))\n",
        "                q.append((node.right, col+1))\n",
        "        \n",
        "        for i in range(mincol, maxcol+1):\n",
        "            if i in dic:\n",
        "                res.append(dic[i])\n",
        "        return res"
      ],
      "execution_count": null,
      "outputs": []
    },
    {
      "cell_type": "markdown",
      "metadata": {
        "id": "9y3eet2O5dsn"
      },
      "source": [
        "## Kill Process\n",
        "\n",
        "https://leetcode.com/problems/kill-process/\n"
      ]
    },
    {
      "cell_type": "code",
      "metadata": {
        "id": "E-pcj0Pl5fze"
      },
      "source": [
        "from collections import deque\n",
        "class Solution:\n",
        "    def killProcess(self, pid: List[int], ppid: List[int], kill: int) -> List[int]:\n",
        "        dic = {}\n",
        "        for i in range(len(pid)):\n",
        "            if ppid[i] not in dic:\n",
        "                dic[ppid[i]] = [pid[i]]\n",
        "            else:\n",
        "                dic[ppid[i]] += [pid[i]]\n",
        "        if kill not in dic:\n",
        "            return [kill]\n",
        "        \n",
        "        ans = []\n",
        "        q = deque([kill])\n",
        "        \n",
        "        while q:\n",
        "            temp = q.popleft()\n",
        "            ans.append(temp)\n",
        "            if temp in dic:\n",
        "                q.extend(dic[temp])\n",
        "        return ans"
      ],
      "execution_count": null,
      "outputs": []
    },
    {
      "cell_type": "markdown",
      "metadata": {
        "id": "Vtq7NjLh2kW9"
      },
      "source": [
        "## Valid BST\n",
        "\n",
        "https://leetcode.com/problems/validate-binary-search-tree/"
      ]
    },
    {
      "cell_type": "code",
      "metadata": {
        "id": "4Od_T_I32tNX"
      },
      "source": [
        "'''\n",
        "iterative写法，空间O(N), 时间O(N)\n",
        "'''\n",
        "class Solution:\n",
        "    def isValidBST(self, root: TreeNode) -> bool:\n",
        "        s = []\n",
        "        temp = -float('inf')\n",
        "        node = root\n",
        "        while node or s:\n",
        "            while node:\n",
        "                s.append(node)\n",
        "                node = node.left\n",
        "            node = s.pop()\n",
        "            if temp >= node.val:\n",
        "                return False\n",
        "            temp = node.val\n",
        "            node = node.right\n",
        "        return True\n",
        "\n",
        "'''\n",
        "recursive写法，空间O(N), 时间O(N)\n",
        "'''\n",
        "class Solution:\n",
        "    def isValidBST(self, root: TreeNode) -> bool:\n",
        "        \n",
        "        self.prev = -float(\"inf\")\n",
        "        \n",
        "        def inOrder(node):\n",
        "            if not node:\n",
        "                return True\n",
        "            if not inOrder(node.left):\n",
        "                return False\n",
        "            if self.prev >= node.val:\n",
        "                return False\n",
        "            self.prev = node.val\n",
        "            return inOrder(node.right)\n",
        "        \n",
        "        return inOrder(root)"
      ],
      "execution_count": null,
      "outputs": []
    },
    {
      "cell_type": "markdown",
      "metadata": {
        "id": "I2XICb1OZ10z"
      },
      "source": [
        "## Largest BST Subtree"
      ]
    },
    {
      "cell_type": "code",
      "metadata": {
        "id": "4XVKUFAfZ-eg"
      },
      "source": [
        "'''\n",
        "这里用中序遍历应该是不work的，最好还是用recursion\n",
        "'''\n",
        "\n",
        "class Solution:\n",
        "    def largestBSTSubtree(self, root: TreeNode) -> int:\n",
        "        \n",
        "        def isValid(node):\n",
        "            if not node:\n",
        "              # 所有父节点全部都合法\n",
        "                return 0, float(\"inf\"), -float(\"inf\") # num of nodes, min value of subtree, max value of subtree\n",
        "            num1, min1, max1 = isValid(node.left)\n",
        "            num2, min2, max2 = isValid(node.right)\n",
        "            if max1 < node.val and node.val < min2:\n",
        "                return num1+num2+1, min(node.val,min1),max(node.val,max2)\n",
        "            else:\n",
        "                return max(num1,num2), float(\"-inf\"), float(\"inf\") # 所有父节点全部不合法\n",
        "\n",
        "        return isValid(root)[0]"
      ],
      "execution_count": null,
      "outputs": []
    },
    {
      "cell_type": "markdown",
      "metadata": {
        "id": "HPagvRV3Z1-c"
      },
      "source": [
        "## Most common subtree sum ✅\n",
        "\n"
      ]
    },
    {
      "cell_type": "code",
      "metadata": {
        "id": "IElNuhjhZ4P0"
      },
      "source": [
        "def findFrequentTreeSum(self, root):\n",
        "    if root is None: return []\n",
        "\n",
        "    def dfs(node):\n",
        "        if node is None: return 0\n",
        "        s = node.val + dfs(node.left) + dfs(node.right)\n",
        "        count[s] += 1\n",
        "        return s\n",
        "\n",
        "    count = collections.Counter()\n",
        "    dfs(root)\n",
        "    maxCount = max(count.values())\n",
        "    return [s for s in count if count[s] == maxCount]"
      ],
      "execution_count": null,
      "outputs": []
    },
    {
      "cell_type": "code",
      "metadata": {
        "colab": {
          "base_uri": "https://localhost:8080/"
        },
        "id": "Zfe-fgEVsn2X",
        "outputId": "1079e173-df42-4764-cc91-dadf7bceea80"
      },
      "source": [
        "items = [[\"item1\", 10,15], [\"item2\",3,4], [\"item3\", 17, 8]]\n",
        "sorted(items, key = lambda x: (x[1]))"
      ],
      "execution_count": null,
      "outputs": [
        {
          "output_type": "execute_result",
          "data": {
            "text/plain": [
              "[['item2', 3, 4], ['item1', 10, 15], ['item3', 17, 8]]"
            ]
          },
          "metadata": {
            "tags": []
          },
          "execution_count": 2
        }
      ]
    },
    {
      "cell_type": "markdown",
      "metadata": {
        "id": "YxtXEEcQ3NuE"
      },
      "source": [
        "## Kth Smallest Element in a BST\n",
        "\n",
        "https://leetcode.com/problems/kth-smallest-element-in-a-bst/"
      ]
    },
    {
      "cell_type": "code",
      "metadata": {
        "id": "5n7xW0ru3Wqx"
      },
      "source": [
        "'''\n",
        "中序遍历\n",
        "时间复杂度：O(H+K),H是树的高度\n",
        "空间复杂度：O(H)，如果是一个很不平衡的树，最坏是O(N),平均可能是O(logN)\n",
        "'''\n",
        "\n",
        "class Solution:\n",
        "    def kthSmallest(self, root: TreeNode, k: int) -> int:\n",
        "        s = []\n",
        "        node = root\n",
        "        while node or s:\n",
        "            while node:\n",
        "                s.append(node)\n",
        "                node = node.left\n",
        "            node = s.pop()\n",
        "            k -= 1\n",
        "            if not k:\n",
        "                return node.val\n",
        "            node = node.right\n",
        "\n",
        "'''\n",
        "Follow Up:树需要做插入和删除\n",
        "利用LRU的思想，做一个doubly linked list\n",
        "'''\n"
      ],
      "execution_count": null,
      "outputs": []
    },
    {
      "cell_type": "markdown",
      "metadata": {
        "id": "QUeWn_wUvhZe"
      },
      "source": [
        "## Lowest Common Ancestor ✅\n",
        "\n",
        "- time: $O(N)$\n",
        "- space: $O(N)$\n",
        "\n",
        "https://leetcode-cn.com/problems/lowest-common-ancestor-of-a-binary-tree/solution/236-er-cha-shu-de-zui-jin-gong-gong-zu-xian-hou-xu/"
      ]
    },
    {
      "cell_type": "code",
      "metadata": {
        "id": "tTNgye16cmAm"
      },
      "source": [
        "'''\n",
        "recursion\n",
        "'''\n",
        "def lowestCommonAncestor(self, root: 'TreeNode', p: 'TreeNode', q: 'TreeNode') -> 'TreeNode':    \n",
        "    self.ans = None\n",
        "    def helper(node):\n",
        "        if not node:\n",
        "            return 0\n",
        "        if node == p or node == q:\n",
        "            curr = 1\n",
        "        else:\n",
        "            curr = 0\n",
        "        left = helper(node.left)\n",
        "        right = helper(node.right)\n",
        "\n",
        "        if curr + left + right == 2 and not self.ans:\n",
        "            self.ans = node# 1. 当 left和 right同时为空 ：说明 root 的左 / 右子树中都不包含 p,q，返回 null\n",
        "        return curr + left + right\n",
        "\n",
        "    helper(root)\n",
        "\n",
        "    return self.ans"
      ],
      "execution_count": null,
      "outputs": []
    },
    {
      "cell_type": "code",
      "metadata": {
        "id": "ht-9NnWwedbJ"
      },
      "source": [
        "'''\n",
        "recursive\n",
        "用字典储存所有的父节点，遍历树一遍，两个的所有祖先从下向上找出来，然后找见第一个\n",
        "'''\n",
        "\n",
        "def lowestCommonAncestor(self, root, p, q):\n",
        "\n",
        "    # Stack for tree traversal\n",
        "    stack = [root]\n",
        "\n",
        "    # Dictionary for parent pointers\n",
        "    parent = {root: None}\n",
        "\n",
        "    # Iterate until we find both the nodes p and q\n",
        "    while p not in parent or q not in parent:\n",
        "\n",
        "        node = stack.pop()\n",
        "\n",
        "        # While traversing the tree, keep saving the parent pointers.\n",
        "        if node.left:\n",
        "            parent[node.left] = node\n",
        "            stack.append(node.left)\n",
        "        if node.right:\n",
        "            parent[node.right] = node\n",
        "            stack.append(node.right)\n",
        "\n",
        "    # Ancestors set() for node p.\n",
        "    ancestors = set()\n",
        "\n",
        "    # Process all ancestors for node p using parent pointers.\n",
        "    while p:\n",
        "        ancestors.add(p)\n",
        "        p = parent[p]\n",
        "\n",
        "    # The first ancestor of q which appears in\n",
        "    # p's ancestor set() is their lowest common ancestor.\n",
        "    while q not in ancestors:\n",
        "        q = parent[q]\n",
        "    return q"
      ],
      "execution_count": null,
      "outputs": []
    },
    {
      "cell_type": "markdown",
      "metadata": {
        "id": "YiKGR3t5AnrC"
      },
      "source": [
        "## Lowest Common Ancestor II, node不一定在树中✅\n",
        "\n",
        "- time: $O(N)$\n",
        "- space: $O(N)$\n",
        "\n",
        "解法和上一道题一样\n",
        "\n",
        "https://leetcode.com/problems/lowest-common-ancestor-of-a-binary-tree-ii/"
      ]
    },
    {
      "cell_type": "code",
      "metadata": {
        "id": "rb1H97vYBfHv"
      },
      "source": [
        "class Solution:\n",
        "    def lowestCommonAncestor(self, root: 'TreeNode', p: 'TreeNode', q: 'TreeNode') -> 'TreeNode':\n",
        "        self.ans = None\n",
        "        \n",
        "        def helper(node):\n",
        "            if not node:\n",
        "                return 0\n",
        "            if node == p or node == q:\n",
        "                curr = 1\n",
        "            else:\n",
        "                curr = 0\n",
        "            left = helper(node.left)\n",
        "            right = helper(node.right)\n",
        "\n",
        "            if curr + left + right == 2 and not self.ans:\n",
        "                self.ans = node# 1. 当 left和 right同时为空 ：说明 root 的左 / 右子树中都不包含 p,q，返回 null\n",
        "            return curr + left + right\n",
        "        \n",
        "        helper(root)\n",
        "\n",
        "        \n",
        "        return self.ans # 2. if left and right:说明 p, q分列在 root 的 异侧 （分别在 左 / 右子树），因此 root 为最近公共祖先，返回 root"
      ],
      "execution_count": null,
      "outputs": []
    },
    {
      "cell_type": "markdown",
      "metadata": {
        "id": "PVy5jdTEwZs1"
      },
      "source": [
        "## Lowest Common Ancestor in a BST\n",
        "\n",
        "O(n), O(1)\n",
        "\n",
        "https://leetcode-cn.com/problems/lowest-common-ancestor-of-a-binary-search-tree/solution/er-cha-sou-suo-shu-de-zui-jin-gong-gong-zu-xian-26/"
      ]
    },
    {
      "cell_type": "code",
      "metadata": {
        "id": "5r3fsl8RxKno"
      },
      "source": [
        "class Solution:\n",
        "    def lowestCommonAncestor(self, root: TreeNode, p: TreeNode, q: TreeNode) -> TreeNode:\n",
        "        ancestor = root\n",
        "        while True:\n",
        "            if p.val < ancestor.val and q.val < ancestor.val:\n",
        "                ancestor = ancestor.left\n",
        "            elif p.val > ancestor.val and q.val > ancestor.val:\n",
        "                ancestor = ancestor.right\n",
        "            else:\n",
        "                break\n",
        "        return ancestor"
      ],
      "execution_count": null,
      "outputs": []
    },
    {
      "cell_type": "markdown",
      "metadata": {
        "id": "LcLJKYrXOK4q"
      },
      "source": [
        "## Populating Next Right Pointers in Each Node (full binary tree)✅\n",
        "\n",
        "- time: $O(N)$\n",
        "- space: $O(1)$\n",
        "\n",
        "https://leetcode.com/problems/populating-next-right-pointers-in-each-node/\n",
        "\n",
        "基本思想是利用已经构建好的pointer避免层次遍历"
      ]
    },
    {
      "cell_type": "code",
      "metadata": {
        "id": "p4bREEwtOxey"
      },
      "source": [
        "\"\"\"\n",
        "# Definition for a Node.\n",
        "class Node:\n",
        "    def __init__(self, val: int = 0, left: 'Node' = None, right: 'Node' = None, next: 'Node' = None):\n",
        "        self.val = val\n",
        "        self.left = left\n",
        "        self.right = right\n",
        "        self.next = next\n",
        "\"\"\"\n",
        "\n",
        "class Solution:\n",
        "    def connect(self, root: 'Node') -> 'Node':\n",
        "        if not root:\n",
        "            return root\n",
        "        \n",
        "        leftmost = root\n",
        "        \n",
        "        # 如果还有必要继续走到下一层\n",
        "        while leftmost.left:\n",
        "            pt = leftmost\n",
        "            while pt:\n",
        "                pt.left.next = pt.right\n",
        "                if pt.next:\n",
        "                    pt.right.next = pt.next.left\n",
        "                pt = pt.next\n",
        "            leftmost = leftmost.left\n",
        "            \n",
        "        return root"
      ],
      "execution_count": null,
      "outputs": []
    },
    {
      "cell_type": "markdown",
      "metadata": {
        "id": "18nlkSeEO2Zm"
      },
      "source": [
        "## Populating Next Right Pointers in Each Node (full binary tree) II✅\n",
        "\n",
        "- time: $O(N)$\n",
        "- space: $O(1)$\n",
        "\n",
        "https://leetcode.com/problems/populating-next-right-pointers-in-each-node-ii/"
      ]
    },
    {
      "cell_type": "code",
      "metadata": {
        "id": "FJ8NlHFMO-13"
      },
      "source": [
        "\"\"\"\n",
        "# Definition for a Node.\n",
        "class Node:\n",
        "    def __init__(self, val: int = 0, left: 'Node' = None, right: 'Node' = None, next: 'Node' = None):\n",
        "        self.val = val\n",
        "        self.left = left\n",
        "        self.right = right\n",
        "        self.next = next\n",
        "\"\"\"\n",
        "\n",
        "class Solution:\n",
        "    '''\n",
        "    # leftmost: 第N层最左边的节点\n",
        "    # curr: 第N层最当前正在看的节点\n",
        "    # prev: curr左边准备和它链接的节点\n",
        "    '''\n",
        "    def processChild(self,childNode, prev, leftmost):\n",
        "        \n",
        "        if childNode: # curr的子节点不为空，需要进行操作；如果子节点为空，什么都不需要改变\n",
        "            if prev: # prev 非空，代表下一层起码已经找到了一个在childNode左边的节点\n",
        "                prev.next = childNode\n",
        "            else: # prev 为空，代表childNode就是下一层最左边的节点\n",
        "                leftmost = childNode\n",
        "            prev = childNode # 更新prev，为继续遍历下一个做好准备\n",
        "        return prev, leftmost\n",
        "        \n",
        "    \n",
        "    def connect(self, root: 'Node') -> 'Node':\n",
        "        if not root:\n",
        "            return root\n",
        "        \n",
        "        leftmost = root\n",
        "        \n",
        "        while leftmost: # 这一次不能用leftmost.left了，因为该层最左边的节点位置可能是上一层任意节点的子节点\n",
        "            prev, curr = None, leftmost\n",
        "            leftmost = None # 设置为None，作为终止的条件，或者留待下一层更新它\n",
        "            while curr:\n",
        "                prev,leftmost = self.processChild(curr.left, prev, leftmost)\n",
        "                prev,leftmost = self.processChild(curr.right, prev, leftmost)\n",
        "                curr=curr.next\n",
        "        return root"
      ],
      "execution_count": null,
      "outputs": []
    },
    {
      "cell_type": "markdown",
      "metadata": {
        "id": "FDNg_IVOASnX"
      },
      "source": [
        "# Heap"
      ]
    },
    {
      "cell_type": "markdown",
      "metadata": {
        "id": "HVKSpJNKAURW"
      },
      "source": [
        "## Top K Frequent Element\n",
        "\n",
        "https://leetcode.com/problems/top-k-frequent-elements/"
      ]
    },
    {
      "cell_type": "code",
      "metadata": {
        "id": "gMAm7WsVATw-"
      },
      "source": [
        "import heapq\n",
        "from collections import Counter\n",
        "class Solution:\n",
        "    def topKFrequent(self, nums: List[int], k: int) -> List[int]:\n",
        "        \n",
        "        dic = Counter(nums)\n",
        "        h = []\n",
        "\n",
        "        \n",
        "        for key in dic:\n",
        "            pair = (dic[key], key)\n",
        "\n",
        "            if len(h) < k:\n",
        "                heapq.heappush(h,pair)\n",
        "            else:\n",
        "                if dic[key] > h[0][0]:\n",
        "                    heapq.heappushpop(h, pair)\n",
        "        \n",
        "        ans = set()\n",
        "        for pair in h:\n",
        "            ans.add(pair[-1])\n",
        "        \n",
        "        return list(ans)"
      ],
      "execution_count": null,
      "outputs": []
    },
    {
      "cell_type": "markdown",
      "metadata": {
        "id": "cwHKLSvZHPqe"
      },
      "source": [
        "## Top K Frequent Words\n",
        "\n",
        "https://leetcode.com/problems/top-k-frequent-words/"
      ]
    },
    {
      "cell_type": "code",
      "metadata": {
        "id": "W34Nevg5PJTj"
      },
      "source": [
        "import collections\n",
        "import heapq\n",
        "import functools\n",
        "\n",
        "@functools.total_ordering\n",
        "class Element:\n",
        "    def __init__(self, count, word):\n",
        "        self.count = count\n",
        "        self.word = word\n",
        "        \n",
        "    def __lt__(self, other):\n",
        "        if self.count == other.count:\n",
        "            return self.word > other.word\n",
        "        return self.count < other.count\n",
        "    \n",
        "    def __eq__(self, other):\n",
        "        return self.count == other.count and self.word == other.word\n",
        "\n",
        "class Solution(object):\n",
        "    def topKFrequent(self, words, k):\n",
        "        \"\"\"\n",
        "        :type words: List[str]\n",
        "        :type k: int\n",
        "        :rtype: List[str]\n",
        "        \"\"\"\n",
        "        counts = collections.Counter(words)   \n",
        "        \n",
        "        freqs = []\n",
        "        heapq.heapify(freqs)\n",
        "        for word, count in counts.items():\n",
        "            heapq.heappush(freqs, (Element(count, word), word))\n",
        "            if len(freqs) > k:\n",
        "                heapq.heappop(freqs)\n",
        "        \n",
        "        res = []\n",
        "        for _ in range(k):\n",
        "            res.append(heapq.heappop(freqs)[1])\n",
        "        return res[::-1]"
      ],
      "execution_count": null,
      "outputs": []
    },
    {
      "cell_type": "markdown",
      "metadata": {
        "id": "Wimv4WPpTEHN"
      },
      "source": [
        "## top K stock"
      ]
    },
    {
      "cell_type": "code",
      "metadata": {
        "id": "Soxa2P-qPS5_",
        "colab": {
          "base_uri": "https://localhost:8080/"
        },
        "outputId": "c30dd1a9-f2d0-41ed-bf74-dd134103eb30"
      },
      "source": [
        "import heapq\n",
        "def topKStock(stock, k):\n",
        "  dic = {}\n",
        "  h = []\n",
        "  s = set()\n",
        "\n",
        "  for item in stock:\n",
        "    if item[1] in dic:\n",
        "      dic[item[1]] += [item[0]]\n",
        "    else:\n",
        "      dic[item[1]] = [item[0]]\n",
        "    s.add(item[1])\n",
        "\n",
        "\n",
        "  for i in s:\n",
        "    if len(h) < k:\n",
        "      heapq.heappush(h, i)\n",
        "    else:\n",
        "      if i > h[0]:\n",
        "        heapq.heappushpop(h, i)\n",
        "  \n",
        "  ans = []\n",
        "  for num in h:\n",
        "    ans += dic[num]\n",
        "  \n",
        "  return ans\n",
        "\n",
        "stock = [[\"a\", 4],[\"b\", 4], [\"c\", 2],[\"d\", 2],[\"e\", 1]]\n",
        "k = 2\n",
        "print(topKStock(stock, k))\n",
        "\n",
        "\n"
      ],
      "execution_count": null,
      "outputs": [
        {
          "output_type": "stream",
          "text": [
            "['c', 'd', 'a', 'b']\n"
          ],
          "name": "stdout"
        }
      ]
    },
    {
      "cell_type": "markdown",
      "metadata": {
        "id": "fOjrUw9Y9cIo"
      },
      "source": [
        "## Get Median from Data Stream"
      ]
    },
    {
      "cell_type": "code",
      "metadata": {
        "id": "M6gMc9XK_wcj"
      },
      "source": [
        "# 中位数\n",
        "from heapq import *\n",
        "\n",
        "class MedianFinder:\n",
        "\n",
        "    def __init__(self):\n",
        "        \"\"\"\n",
        "        initialize your data structure here.\n",
        "        \"\"\"\n",
        "        self.A = [] #小顶堆，保存大的一半\n",
        "        self.B = [] #大顶堆，保存小的一半\n",
        "        \n",
        "\n",
        "    def addNum(self, num: int) -> None:\n",
        "        \n",
        "        if len(self.A) == len(self.B): #该加奇数个element\n",
        "            heappush(self.B, -num)\n",
        "            heappush(self.A, -heappop(self.B))\n",
        "        else:\n",
        "            heappush(self.A, num)\n",
        "            heappush(self.B, -heappop(self.A))\n",
        "            \n",
        "    def findMedian(self) -> float:\n",
        "        if len(self.A) == len(self.B):\n",
        "            return (self.A[0]-self.B[0])/2\n",
        "        else:\n",
        "            return self.A[0]"
      ],
      "execution_count": null,
      "outputs": []
    },
    {
      "cell_type": "markdown",
      "metadata": {
        "id": "rSItXdCi_wy-"
      },
      "source": [
        "## Output data from stream in order ✅\n",
        "\n"
      ]
    },
    {
      "cell_type": "code",
      "metadata": {
        "colab": {
          "base_uri": "https://localhost:8080/"
        },
        "id": "mchMO0-jBkUC",
        "outputId": "4adfd3e8-3baa-4220-935e-43ac23a59e4d"
      },
      "source": [
        "from heapq import *\n",
        "incre = 1\n",
        "range = 5\n",
        "arr = [(1, \"abcd\"), (2, \"efgh\"), (4, \"mnop\"), (5, \"qrst\"), (3, \"ijkl\")]\n",
        "def outputInOrder(arr):\n",
        "    h = []\n",
        "    curr = 0\n",
        "    for item in arr:\n",
        "      heappush(h,item)\n",
        "      while h and h[0][0] == curr + incre:\n",
        "        print(heappop(h))\n",
        "        curr += incre\n",
        "outputInOrder(arr)"
      ],
      "execution_count": null,
      "outputs": [
        {
          "output_type": "stream",
          "text": [
            "(1, 'abcd')\n",
            "(2, 'efgh')\n",
            "(3, 'ijkl')\n",
            "(4, 'mnop')\n",
            "(5, 'qrst')\n"
          ],
          "name": "stdout"
        }
      ]
    },
    {
      "cell_type": "markdown",
      "metadata": {
        "id": "YtRwMYQHW1gF"
      },
      "source": [
        "# Linked List"
      ]
    },
    {
      "cell_type": "markdown",
      "metadata": {
        "id": "rl362QXTW37R"
      },
      "source": [
        "## Flatten a Multilevel Doubly Linked List\n",
        "\n",
        "https://leetcode.com/problems/flatten-a-multilevel-doubly-linked-list/"
      ]
    },
    {
      "cell_type": "code",
      "metadata": {
        "id": "x2MYux4uW85p"
      },
      "source": [
        "# 用stack的想法更加简单\n",
        "\n",
        "class Solution:\n",
        "    def flatten(self, head: 'Node') -> 'Node':\n",
        "        \n",
        "        if not head:\n",
        "            return head\n",
        "        \n",
        "        pseudohead = Node(-1, None, head, None)\n",
        "    \n",
        "        prev = pseudohead\n",
        "    \n",
        "        s = [head]\n",
        "        \n",
        "        while s:\n",
        "            curr = s.pop()\n",
        "            \n",
        "            if curr.next:\n",
        "                s.append(curr.next)\n",
        "                \n",
        "            if curr.child:\n",
        "                s.append(curr.child)\n",
        "                curr.child = None\n",
        "            \n",
        "            prev.next = curr\n",
        "            curr.prev = prev\n",
        "            prev = curr\n",
        "        \n",
        "        head.prev = None\n",
        "        return head"
      ],
      "execution_count": null,
      "outputs": []
    },
    {
      "cell_type": "markdown",
      "metadata": {
        "id": "JNYj3R3owL2Q"
      },
      "source": [
        "## Reverse Linked List\n",
        "\n",
        "https://leetcode.com/problems/reverse-linked-list/\n",
        "\n"
      ]
    },
    {
      "cell_type": "code",
      "metadata": {
        "id": "ha55PWKDgwQD"
      },
      "source": [
        "class Solution:\n",
        "    def reverseList(self, head: ListNode) -> ListNode:\n",
        "        if not head:\n",
        "            return None\n",
        "        \n",
        "        pre = None\n",
        "        pt = head\n",
        "        \n",
        "        while pt:\n",
        "            temp = pt.next\n",
        "            pt.next = pre\n",
        "            pre = pt\n",
        "            pt = temp\n",
        "        \n",
        "        return pre"
      ],
      "execution_count": null,
      "outputs": []
    },
    {
      "cell_type": "markdown",
      "metadata": {
        "id": "MkeAHB1o-ojS"
      },
      "source": [
        "## Reverse Linked List from m to n\n",
        "\n",
        "https://leetcode.com/problems/reverse-linked-list-ii/"
      ]
    },
    {
      "cell_type": "code",
      "metadata": {
        "id": "lZB7IWIS-8XB"
      },
      "source": [
        "class Solution:\n",
        "    def reverseBetween(self, head, m, n):\n",
        "        \"\"\"\n",
        "        :type head: ListNode\n",
        "        :type m: int\n",
        "        :type n: int\n",
        "        :rtype: ListNode\n",
        "        \"\"\"\n",
        "\n",
        "        # Empty list\n",
        "        if not head:\n",
        "            return None\n",
        "\n",
        "        # Move the two pointers until they reach the proper starting point\n",
        "        # in the list.\n",
        "        cur, prev = head, None\n",
        "        while m > 1:\n",
        "            prev = cur\n",
        "            cur = cur.next\n",
        "            m, n = m - 1, n - 1\n",
        "\n",
        "        # The two pointers that will fix the final connections.\n",
        "        tail, con = cur, prev\n",
        "\n",
        "        # Iteratively reverse the nodes until n becomes 0.\n",
        "        while n:\n",
        "            third = cur.next\n",
        "            cur.next = prev\n",
        "            prev = cur\n",
        "            cur = third\n",
        "            n -= 1\n",
        "\n",
        "        # Adjust the final connections as explained in the algorithm\n",
        "        if con:\n",
        "            con.next = prev\n",
        "        else:\n",
        "            head = prev\n",
        "        tail.next = cur\n",
        "        return head"
      ],
      "execution_count": null,
      "outputs": []
    },
    {
      "cell_type": "markdown",
      "metadata": {
        "id": "E-6yQDJv-9QV"
      },
      "source": [
        "## Reverse Nodes in k-Group\n",
        "\n",
        "https://leetcode-cn.com/problems/reverse-nodes-in-k-group/solution/k-ge-yi-zu-fan-zhuan-lian-biao-by-leetcode-solutio/\n"
      ]
    },
    {
      "cell_type": "code",
      "metadata": {
        "id": "VBdu-FXJAZsu"
      },
      "source": [
        "class Solution:\n",
        "    # 翻转一个子链表，并且返回新的头与尾\n",
        "    def reverse(self, head: ListNode, tail: ListNode):\n",
        "        prev = tail.next\n",
        "        p = head\n",
        "        while prev != tail:\n",
        "            temp = p.next\n",
        "            p.next = prev\n",
        "            prev = p\n",
        "            p = temp\n",
        "        return tail, head\n",
        "\n",
        "    def reverseKGroup(self, head: ListNode, k: int) -> ListNode:\n",
        "        hair = ListNode(0)\n",
        "        hair.next = head\n",
        "        pre = hair\n",
        "\n",
        "        while head:\n",
        "            tail = pre\n",
        "            # 查看剩余部分长度是否大于等于 k\n",
        "            for i in range(k):\n",
        "                tail = tail.next\n",
        "                if not tail:\n",
        "                    return hair.next\n",
        "            temp = tail.next\n",
        "            head, tail = self.reverse(head, tail)\n",
        "            # 把子链表重新接回原链表\n",
        "            pre.next = head\n",
        "            tail.next = temp\n",
        "            pre = tail\n",
        "            head = tail.next\n",
        "        \n",
        "        return hair.next\n"
      ],
      "execution_count": null,
      "outputs": []
    },
    {
      "cell_type": "markdown",
      "metadata": {
        "id": "BKuCivfBAgvI"
      },
      "source": [
        "## Remove Nth Node From End of List\n",
        "\n",
        "https://leetcode.com/problems/remove-nth-node-from-end-of-list/"
      ]
    },
    {
      "cell_type": "code",
      "metadata": {
        "id": "e-MJY1N3ByO7"
      },
      "source": [
        "# one pass solution\n",
        "class Solution:\n",
        "    def removeNthFromEnd(self, head: ListNode, n: int) -> ListNode:\n",
        "        \n",
        "        pseudohead = ListNode(-1)\n",
        "        pseudohead.next = head\n",
        "        \n",
        "        pre, cur, succ = pseudohead, head, head\n",
        "        \n",
        "        for _ in range(n):\n",
        "            succ = succ.next\n",
        "            \n",
        "        while succ:\n",
        "            succ = succ.next\n",
        "            cur = cur.next\n",
        "            pre = pre.next\n",
        "            \n",
        "        pre.next = cur.next\n",
        "        cur.next = None\n",
        "        \n",
        "        return pseudohead.next"
      ],
      "execution_count": null,
      "outputs": []
    },
    {
      "cell_type": "markdown",
      "metadata": {
        "id": "Djq1KSIPDNwU"
      },
      "source": [
        "## Copy list with random pointer ✅\n",
        "\n",
        "- time: $O(N)$\n",
        "- space: $O(1)$\n",
        "\n",
        "https://leetcode.com/problems/copy-list-with-random-pointer/"
      ]
    },
    {
      "cell_type": "code",
      "metadata": {
        "id": "T2Wre84sDYte"
      },
      "source": [
        "class Solution(object):\n",
        "    def copyRandomList(self, head):\n",
        "        \"\"\"\n",
        "        :type head: Node\n",
        "        :rtype: Node\n",
        "        \"\"\"\n",
        "        if not head:\n",
        "            return head\n",
        "\n",
        "        # Creating a new weaved list of original and copied nodes.\n",
        "        ptr = head\n",
        "        while ptr:\n",
        "\n",
        "            # Cloned node\n",
        "            new_node = Node(ptr.val, None, None)\n",
        "\n",
        "            # Inserting the cloned node just next to the original node.\n",
        "            # If A->B->C is the original linked list,\n",
        "            # Linked list after weaving cloned nodes would be A->A'->B->B'->C->C'\n",
        "            new_node.next = ptr.next\n",
        "            ptr.next = new_node\n",
        "            ptr = new_node.next\n",
        "\n",
        "        ptr = head\n",
        "\n",
        "        # Now link the random pointers of the new nodes created.\n",
        "        # Iterate the newly created list and use the original nodes random pointers,\n",
        "        # to assign references to random pointers for cloned nodes.\n",
        "        while ptr:\n",
        "            ptr.next.random = ptr.random.next if ptr.random else None\n",
        "            ptr = ptr.next.next\n",
        "\n",
        "        # Unweave the linked list to get back the original linked list and the cloned list.\n",
        "        # i.e. A->A'->B->B'->C->C' would be broken to A->B->C and A'->B'->C'\n",
        "        ptr_old_list = head # A->B->C\n",
        "        ptr_new_list = head.next # A'->B'->C'\n",
        "        head_old = head.next\n",
        "        while ptr_old_list:\n",
        "            ptr_old_list.next = ptr_old_list.next.next\n",
        "            ptr_new_list.next = ptr_new_list.next.next if ptr_new_list.next else None\n",
        "            ptr_old_list = ptr_old_list.next\n",
        "            ptr_new_list = ptr_new_list.next\n",
        "        return head_old"
      ],
      "execution_count": null,
      "outputs": []
    },
    {
      "cell_type": "markdown",
      "metadata": {
        "id": "Kj3OBK40sNM9"
      },
      "source": [
        "# Array"
      ]
    },
    {
      "cell_type": "markdown",
      "metadata": {
        "id": "IXhaBz4VsPWz"
      },
      "source": [
        "## Meeting room II\n",
        "\n",
        "\n",
        "https://leetcode.com/problems/meeting-rooms-ii/solution/"
      ]
    },
    {
      "cell_type": "code",
      "metadata": {
        "id": "ZHVWL2J2sOOM"
      },
      "source": [
        "class Solution:\n",
        "    def minMeetingRooms(self, intervals: List[List[int]]) -> int:\n",
        "        # choose the earliest finish room\n",
        "        # if earliest finished room not available, add a new one\n",
        "        \n",
        "        import heapq as hq\n",
        "        h = []\n",
        "        tot = 0\n",
        "        \n",
        "        \n",
        "        if len(intervals) == 0:\n",
        "            return 0\n",
        "        \n",
        "        intervals.sort()\n",
        "        \n",
        "        for i in intervals:\n",
        "            if h == [] or i[0] < h[0]:\n",
        "                tot += 1\n",
        "                hq.heappush(h, i[1])\n",
        "            else:\n",
        "                hq.heappop(h)\n",
        "                hq.heappush(h, i[1])\n",
        "            print(h)\n",
        "        return tot"
      ],
      "execution_count": null,
      "outputs": []
    },
    {
      "cell_type": "markdown",
      "metadata": {
        "id": "Sw1wnBvRWM2s"
      },
      "source": [
        "## Two City Scheduling\n",
        "https://leetcode.com/problems/two-city-scheduling/\n",
        "\n",
        "(greedy)"
      ]
    },
    {
      "cell_type": "code",
      "metadata": {
        "id": "cg-itAOOWZRG"
      },
      "source": [
        "class Solution:\n",
        "    def twoCitySchedCost(self, costs: List[List[int]]) -> int:\n",
        "        \n",
        "        costs.sort(key = lambda x: x[0]-x[1])\n",
        "        ans = 0\n",
        "        n = len(costs)//2\n",
        "        \n",
        "        for i in range(n):\n",
        "            ans += costs[i][0]+ costs[i+n][1]\n",
        "        return ans"
      ],
      "execution_count": null,
      "outputs": []
    },
    {
      "cell_type": "markdown",
      "metadata": {
        "id": "Pvh4x85QpTEQ"
      },
      "source": [
        "## 逆序对+归并排序\n",
        "\n",
        "https://leetcode-cn.com/problems/shu-zu-zhong-de-ni-xu-dui-lcof/solution/jian-dan-yi-dong-gui-bing-pai-xu-python-by-azl3979/\n"
      ]
    },
    {
      "cell_type": "code",
      "metadata": {
        "id": "td_J18FSpV7J"
      },
      "source": [
        "class Solution:\n",
        "    def reversePairs(self, nums: List[int]) -> int:\n",
        "        self.cnt = 0\n",
        "        def merge(nums, start, mid, end, temp):\n",
        "            i, j = start, mid + 1\n",
        "            while i <= mid and j <= end:\n",
        "                if nums[i] <= nums[j]:\n",
        "                    temp.append(nums[i])\n",
        "                    i += 1\n",
        "                else:\n",
        "                    self.cnt += mid - i + 1\n",
        "                    temp.append(nums[j])\n",
        "                    j += 1\n",
        "            while i <= mid:\n",
        "                temp.append(nums[i])\n",
        "                i += 1\n",
        "            while j <= end:\n",
        "                temp.append(nums[j])\n",
        "                j += 1\n",
        "            \n",
        "            for i in range(len(temp)):\n",
        "                nums[start + i] = temp[i]\n",
        "            temp.clear()\n",
        "                    \n",
        "\n",
        "        def mergeSort(nums, start, end, temp):\n",
        "            if start >= end: return\n",
        "            mid = (start + end) >> 1\n",
        "            mergeSort(nums, start, mid, temp)\n",
        "            mergeSort(nums, mid + 1, end, temp)\n",
        "            merge(nums, start, mid,  end, temp)\n",
        "        mergeSort(nums, 0, len(nums) - 1, [])\n",
        "        return self.cnt\n"
      ],
      "execution_count": null,
      "outputs": []
    },
    {
      "cell_type": "markdown",
      "metadata": {
        "id": "IEONfGkwsCVm"
      },
      "source": [
        "## Course Schedule II\n",
        "\n",
        "https://leetcode.com/problems/course-schedule-ii/"
      ]
    },
    {
      "cell_type": "code",
      "metadata": {
        "id": "31huOhOysHo6"
      },
      "source": [
        "class Solution:\n",
        "    def findOrder(self, numCourses: int, prerequisites: List[List[int]]) -> List[int]:\n",
        "        # network dictionary\n",
        "        dic = {}\n",
        "        # in-degree dictionary\n",
        "        indeg = {}\n",
        "        for i in range(numCourses):\n",
        "            dic[i] = set()\n",
        "            indeg[i] = 0\n",
        "        for x in prerequisites:\n",
        "            dic[x[1]].add(x[0])\n",
        "            indeg[x[0]] += 1\n",
        "        \n",
        "        q = []\n",
        "        ans = []\n",
        "        \n",
        "        for i in indeg:\n",
        "            if indeg[i] == 0:\n",
        "                q.append(i)\n",
        "        \n",
        "        while q:\n",
        "            temp = q.pop()\n",
        "            ans.append(temp)\n",
        "            for x in dic[temp]:\n",
        "                indeg[x] -= 1\n",
        "                if indeg[x] == 0:\n",
        "                    q.append(x)\n",
        "\n",
        "        return ans if len(ans) == numCourses else []"
      ],
      "execution_count": null,
      "outputs": []
    },
    {
      "cell_type": "markdown",
      "metadata": {
        "id": "qkoh5xN5f8g2"
      },
      "source": [
        "## Gas station\n",
        "(greedy)\n",
        "https://leetcode.com/problems/gas-station/"
      ]
    },
    {
      "cell_type": "code",
      "metadata": {
        "id": "adj3S4jTgBqd"
      },
      "source": [
        "class Solution:\n",
        "    def canCompleteCircuit(self, gas: List[int], cost: List[int]) -> int:\n",
        "        \n",
        "        if sum(gas) < sum(cost):\n",
        "            return -1\n",
        "        \n",
        "        start = 0\n",
        "        curr_tank = 0\n",
        "        \n",
        "        i = 0\n",
        "        while i < len(gas):\n",
        "            curr_tank += gas[i]-cost[i]\n",
        "            if curr_tank < 0:\n",
        "                start = i + 1\n",
        "                curr_tank = 0\n",
        "            i += 1\n",
        "        \n",
        "        return start"
      ],
      "execution_count": null,
      "outputs": []
    },
    {
      "cell_type": "markdown",
      "metadata": {
        "id": "-ohPgs4JELxt"
      },
      "source": [
        "## Search in a rotate sorted array\n",
        "\n",
        "https://leetcode.com/problems/search-in-rotated-sorted-array/"
      ]
    },
    {
      "cell_type": "code",
      "metadata": {
        "id": "8mt9Cr0hEQOa"
      },
      "source": [
        "# 这启示我们可以在常规二分搜索的时候查看当前 mid 为分割位置分割出来的两个部分 [l, mid] 和 [mid + 1, r] 哪个部分是有序的，\n",
        "#并根据有序的那个部分确定我们该如何改变二分搜索的上下界，因为我们能够根据有序的那部分判断出 target 在不在这个部分\n",
        "\n",
        "class Solution:\n",
        "    def search(self, nums: List[int], target: int) -> int:\n",
        "        if not nums:\n",
        "            return -1\n",
        "        \n",
        "        n = len(nums)\n",
        "        \n",
        "        if n == 1:\n",
        "            return 0 if nums[0] == target else -1\n",
        "\n",
        "        def partition(l,r):\n",
        "            if l > r:\n",
        "                return -1\n",
        "            \n",
        "            if l == r:\n",
        "                if target == nums[l]:\n",
        "                    return l\n",
        "                else:\n",
        "                    return -1\n",
        "            \n",
        "            mi = (l+r) // 2\n",
        "            \n",
        "            if nums[mi] == target:\n",
        "                return mi\n",
        "            \n",
        "            if nums[mi] < nums[l]: # 右边有序，只管有序的一边比较就行了，如果不在就是在剩下一边\n",
        "                if nums[mi] < target <= nums[r]:\n",
        "                    return partition(mi+1, r)\n",
        "                else:\n",
        "                    return partition(l, mi-1)\n",
        "            else: # 左边有序\n",
        "                if nums[l] <= target < nums[mi]:\n",
        "                    return partition(l,mi-1)\n",
        "                else:\n",
        "                    return partition(mi+1, r)\n",
        "            \n",
        "        ans = partition(0, len(nums)-1)\n",
        "        return ans"
      ],
      "execution_count": null,
      "outputs": []
    },
    {
      "cell_type": "markdown",
      "metadata": {
        "id": "3lr0zqLa9Aom"
      },
      "source": [
        "## Find Minimum in Rotated Sorted Array\n",
        "\n",
        "https://leetcode.com/problems/find-minimum-in-rotated-sorted-array/"
      ]
    },
    {
      "cell_type": "code",
      "metadata": {
        "id": "gmTjKHEw9CBg"
      },
      "source": [
        "class Solution:\n",
        "    def findMin(self, nums: List[int]) -> int:\n",
        "        \n",
        "        n = len(nums)\n",
        "        \n",
        "        if n == 1:\n",
        "            return nums[0]\n",
        "        \n",
        "        def partition(l,r, curr_min):\n",
        "            \n",
        "            if l > r:\n",
        "                return curr_min\n",
        "            \n",
        "            if l == r:\n",
        "                return min(curr_min, nums[l])\n",
        "            \n",
        "            mi = (l+r) // 2\n",
        "            \n",
        "            if nums[mi] < nums[l]:\n",
        "                return partition(l, mi-1, min(curr_min, nums[mi]))\n",
        "            else:\n",
        "                return partition(mi+1, r, min(curr_min, nums[l]))\n",
        "            \n",
        "        return partition(0,n-1, float('inf'))"
      ],
      "execution_count": null,
      "outputs": []
    },
    {
      "cell_type": "markdown",
      "metadata": {
        "id": "MFjRWMhzRSMT"
      },
      "source": [
        "## Binary Search\n",
        "\n",
        "似乎是如果单纯查找等于，可以用hi = len(arr) and while lo < hi;\n",
        "但如果与区间相关，则不是这样"
      ]
    },
    {
      "cell_type": "code",
      "metadata": {
        "colab": {
          "base_uri": "https://localhost:8080/"
        },
        "id": "oLoqK9rKxfeU",
        "outputId": "1a19602c-a443-4f5c-c112-6edbfa3de643"
      },
      "source": [
        "'''\n",
        "查找上升/下降数组中最大/小的元素，当该元素需要和其他元素比较判定的时候这样写\n",
        "用两头都包括的情况\n",
        "lo, hi = 0,len(arr)-1\n",
        "while lo < hi - 1:\n",
        "'''\n",
        "\n",
        "arr = [0,3,9,32,190,4]\n",
        "def searchPeak(arr):\n",
        "  lo, hi = 0,len(arr)-1\n",
        "  while lo < hi - 1:\n",
        "    mi = (lo + hi)//2\n",
        "    if arr[mi-1] < arr[mi] < arr[mi+1]:\n",
        "      lo = mi\n",
        "    elif arr[mi-1] > arr[mi] > arr[mi+1]:\n",
        "      hi = mi\n",
        "    else:\n",
        "      return mi\n",
        "searchPeak(arr)"
      ],
      "execution_count": null,
      "outputs": [
        {
          "output_type": "execute_result",
          "data": {
            "text/plain": [
              "4"
            ]
          },
          "metadata": {
            "tags": []
          },
          "execution_count": 10
        }
      ]
    },
    {
      "cell_type": "code",
      "metadata": {
        "colab": {
          "base_uri": "https://localhost:8080/"
        },
        "id": "hfXdtwHAoduV",
        "outputId": "9c9ca424-9467-49f5-b8f3-5ef368dfd0fd"
      },
      "source": [
        "'''\n",
        "iterative 写法\n",
        "查找arr中 <=x 的元素,返回不大于x最后一个元素的下标\n",
        "可以处理有多个的情形\n",
        "'''\n",
        "\n",
        "def binarySearch(arr, lo, hi, x): \n",
        "  while lo < hi:\n",
        "    mi = (lo+hi)//2\n",
        "    if x < arr[mi]:\n",
        "      hi = mi\n",
        "    else:\n",
        "      lo = mi + 1\n",
        "  # 如果需要返回是否存在，加下面这一个if\n",
        "  if arr[lo-1] != x:\n",
        "    return -1\n",
        "  else:\n",
        "    # 记住最后return的是lo-1！！ 不要忘记了-1！\n",
        "    return arr[lo-1]\n",
        "\n",
        "arr = [4,6,8,10]\n",
        "x = 8\n",
        "binarySearch(arr, 0, 4, x)\n",
        "\n",
        "\n"
      ],
      "execution_count": null,
      "outputs": [
        {
          "output_type": "execute_result",
          "data": {
            "text/plain": [
              "8"
            ]
          },
          "metadata": {
            "tags": []
          },
          "execution_count": 12
        }
      ]
    },
    {
      "cell_type": "code",
      "metadata": {
        "id": "gEjn7TFABHA4"
      },
      "source": [
        "'''\n",
        "带等号的写法\n",
        "'''\n",
        "\n",
        "# Iterative Binary Search Function \n",
        "# It returns index of x in given array arr if present, \n",
        "# else returns -1 \n",
        "def binary_search(arr, x): \n",
        "\tlow = 0\n",
        "\thigh = len(arr) - 1\n",
        "\tmid = 0\n",
        "\n",
        "\twhile low <= high: \n",
        "\n",
        "\t\tmid = (high + low) // 2\n",
        "\n",
        "\t\t# Check if x is present at mid \n",
        "\t\tif arr[mid] < x: \n",
        "\t\t\tlow = mid + 1\n",
        "\n",
        "\t\t# If x is greater, ignore left half \n",
        "\t\telif arr[mid] > x: \n",
        "\t\t\thigh = mid - 1\n",
        "\n",
        "\t\t# If x is smaller, ignore right half \n",
        "\t\telse: \n",
        "\t\t\treturn mid \n",
        "\n",
        "\t# If we reach here, then the element was not present \n",
        "\treturn -1\n"
      ],
      "execution_count": null,
      "outputs": []
    },
    {
      "cell_type": "markdown",
      "metadata": {
        "id": "6YkSM8o7ZM5o"
      },
      "source": [
        "## Missing Element in Sorted Array\n",
        "\n",
        "- 时间：$O(logN)$\n",
        "- 空间：$O(1)$\n",
        "\n",
        "https://leetcode.com/problems/missing-element-in-sorted-array/"
      ]
    },
    {
      "cell_type": "code",
      "metadata": {
        "id": "05j1vtRKLQmf"
      },
      "source": [
        "class Solution:\n",
        "    def missingElement(self, nums: List[int], k: int) -> int:\n",
        "        if not nums or k == 0:\n",
        "            return 0\n",
        "        \n",
        "        diff = nums[-1] - nums[0] + 1 # complete length\n",
        "        missing = diff - len(nums) # complete length - real length\n",
        "        if k > missing: # if k is larger than the number of mssing words in sequence\n",
        "            return nums[-1] + k - missing\n",
        "        \n",
        "        left, right = 0, len(nums) - 1\n",
        "        while left + 1 < right:\n",
        "            mid = (left + right) // 2\n",
        "            missing = nums[mid] - nums[left] - (mid - left)\n",
        "            if missing < k:\n",
        "                left = mid\n",
        "                k -= missing # KEY: move left forward, we need to minus the missing words of this range\n",
        "            else:\n",
        "                right = mid\n",
        "                \n",
        "        return nums[left] + k # k should be between left and right index in the end"
      ],
      "execution_count": null,
      "outputs": []
    },
    {
      "cell_type": "markdown",
      "metadata": {
        "id": "_P18mdRujN6s"
      },
      "source": [
        "## Find in Mountain Array\n",
        "\n"
      ]
    },
    {
      "cell_type": "markdown",
      "metadata": {
        "id": "tM01rqFTY_ay"
      },
      "source": [
        "## Merge Intervals\n",
        "\n",
        "- time O(nlogn)\n",
        "- space quick sort O(logn)\n",
        "\n",
        "https://leetcode.com/problems/merge-intervals/"
      ]
    },
    {
      "cell_type": "code",
      "metadata": {
        "id": "tIYUP95TZEf6"
      },
      "source": [
        "class Solution:\n",
        "    def merge(self, intervals: List[List[int]]) -> List[List[int]]:\n",
        "        \n",
        "        intervals.sort()\n",
        "\n",
        "        n = len(intervals)\n",
        "        \n",
        "        if n == 1 or n == 0: #注意n=0的情况\n",
        "            return intervals\n",
        "        \n",
        "        i = 1\n",
        "        temp = intervals[0]\n",
        "        ans = []\n",
        "        \n",
        "        while i != n:\n",
        "            if intervals[i][0] <= temp[1]:\n",
        "                temp = [min(temp[0],intervals[i][0]),max(temp[1],intervals[i][1])]\n",
        "                i+=1\n",
        "            else:\n",
        "                ans.append(temp)\n",
        "                temp = intervals[i]\n",
        "                i+=1\n",
        "        ans.append(temp)\n",
        "        return ans"
      ],
      "execution_count": null,
      "outputs": []
    },
    {
      "cell_type": "code",
      "metadata": {
        "id": "kKEzyWOA2jgY"
      },
      "source": [
        "for k in range(1,1):\n",
        "  print(k)"
      ],
      "execution_count": null,
      "outputs": []
    },
    {
      "cell_type": "markdown",
      "metadata": {
        "id": "dhcO8aB9F0dc"
      },
      "source": [
        "## Non-overlapping Intervals(典型greddy)\n",
        "\n",
        "- time: O(nlogn)\n",
        "- space: quick sort space O(logn)\n",
        "\n",
        "https://leetcode.com/problems/non-overlapping-intervals/"
      ]
    },
    {
      "cell_type": "code",
      "metadata": {
        "id": "z0clht3EGAk1"
      },
      "source": [
        "# 先按照结束时间sort，贪心移除overlap的\n",
        "def eraseOverlapIntervals(intervals):\n",
        "\tend, cnt = float('-inf'), 0\n",
        "\tfor s, e in sorted(intervals, key=lambda x: x[1]):\n",
        "\t\tif s >= end: \n",
        "\t\t\tend = e\n",
        "\t\telse: \n",
        "\t\t\tcnt += 1\n",
        "\treturn cnt"
      ],
      "execution_count": null,
      "outputs": []
    },
    {
      "cell_type": "markdown",
      "metadata": {
        "id": "Bu6TZV1SvZ-Y"
      },
      "source": [
        "## Subset I\n",
        "\n",
        "https://leetcode.com/problems/subsets/"
      ]
    },
    {
      "cell_type": "code",
      "metadata": {
        "id": "9QD-PIO-vfev"
      },
      "source": [
        "class Solution:\n",
        "    def subsets(self, nums: List[int]) -> List[List[int]]:\n",
        "        \n",
        "        if not nums:\n",
        "            return [[]]\n",
        "        \n",
        "        ans = [[]]\n",
        "        \n",
        "        for num in nums:\n",
        "            s = []\n",
        "            for item in ans:\n",
        "                temp = item+[num]\n",
        "                s.append(temp)\n",
        "            ans += s\n",
        "        \n",
        "        return ans\n",
        "        "
      ],
      "execution_count": null,
      "outputs": []
    },
    {
      "cell_type": "markdown",
      "metadata": {
        "id": "XwijiMm3vjre"
      },
      "source": [
        "## Subsets 2\n",
        "\n",
        "https://leetcode.com/problems/subsets-ii/"
      ]
    },
    {
      "cell_type": "code",
      "metadata": {
        "id": "u38G-VldvlHH"
      },
      "source": [
        "class Solution:\n",
        "    def subsetsWithDup(self, nums):\n",
        "        if not nums:\n",
        "            return []\n",
        "        nums.sort()\n",
        "        res, cur = [[]], []\n",
        "        for i in range(len(nums)):\n",
        "            if i > 0 and nums[i] == nums[i-1]:\n",
        "                cur = [item + [nums[i]] for item in cur]\n",
        "            else:\n",
        "                cur = [item + [nums[i]] for item in res]\n",
        "            res += cur\n",
        "        return res\n",
        "\n",
        "######## w/o extra space #######\n",
        "class Solution:\n",
        "    def subsetsWithDup(self, S):\n",
        "        res = [[]]\n",
        "        S.sort()\n",
        "        for i in range(len(S)):\n",
        "            if i == 0 or S[i] != S[i - 1]:\n",
        "                l = len(res)\n",
        "            for j in range(len(res) - l, len(res)):\n",
        "                res.append(res[j] + [S[i]])\n",
        "        return res"
      ],
      "execution_count": null,
      "outputs": []
    },
    {
      "cell_type": "markdown",
      "metadata": {
        "id": "tXiWYiHpwOfU"
      },
      "source": [
        "## Word search\n",
        "\n",
        "- 时间：$O(N \\cdot 3^L)$, N：格子个数，L：Word长度\n",
        "- 空间：$O(L)$,主要是recursive call的栈空间\n",
        "\n",
        "https://leetcode.com/problems/word-search/"
      ]
    },
    {
      "cell_type": "code",
      "metadata": {
        "id": "h7cg_KUNwSFL"
      },
      "source": [
        "class Solution:\n",
        "    def exist(self, board: List[List[str]], word: str) -> bool:\n",
        "        def dfs(i,j,k):\n",
        "            if i < 0 or j < 0 or i >= len(board) or j >= len(board[0]) or board[i][j] != word[k]:\n",
        "                return False\n",
        "            if k == len(word)-1:\n",
        "                return True\n",
        "            \n",
        "            res = False\n",
        "            board[i][j] = \"/\"\n",
        "            for dx,dy in [(0, 1), (-1, 0), (0, -1), (1, 0)]:\n",
        "                res = dfs(i+dx,j+dy,k+1)\n",
        "                if res:\n",
        "                    break\n",
        "            board[i][j] = word[k]\n",
        "            \n",
        "            return res\n",
        "        \n",
        "        for i in range(len(board)):\n",
        "            for j in range(len(board[0])):\n",
        "                if dfs(i,j,0):\n",
        "                    return True\n",
        "        return False"
      ],
      "execution_count": null,
      "outputs": []
    },
    {
      "cell_type": "markdown",
      "metadata": {
        "id": "vTqO7U_idGzr"
      },
      "source": [
        "## Word Search II\n",
        "\n",
        "- Time:\n",
        "- Space: \n",
        "\n",
        "https://leetcode.com/problems/word-search-ii/"
      ]
    },
    {
      "cell_type": "code",
      "metadata": {
        "id": "5pOL2lKFdafS"
      },
      "source": [
        ""
      ],
      "execution_count": null,
      "outputs": []
    },
    {
      "cell_type": "markdown",
      "metadata": {
        "id": "4N7AA_Z-aDDs"
      },
      "source": [
        "## Longest Consecutive Sequence\n",
        "\n",
        "https://leetcode.com/problems/longest-consecutive-sequence/"
      ]
    },
    {
      "cell_type": "code",
      "metadata": {
        "id": "5_5xm-jBaIsz"
      },
      "source": [
        "class Solution:\n",
        "    def longestConsecutive(self, nums: List[int]) -> int:\n",
        "        if not nums:\n",
        "            return 0\n",
        "        \n",
        "        num_set = set(nums)\n",
        "        ans = 0\n",
        "        for num in num_set:\n",
        "            if num-1 not in num_set:\n",
        "                curr_num = num\n",
        "                curr_len = 1\n",
        "                \n",
        "                while curr_num + 1 in num_set:\n",
        "                    curr_num += 1\n",
        "                    curr_len += 1\n",
        "                \n",
        "                ans = max(ans, curr_len)\n",
        "        return ans"
      ],
      "execution_count": null,
      "outputs": []
    },
    {
      "cell_type": "markdown",
      "metadata": {
        "id": "hCAuR3xshh7_"
      },
      "source": [
        "## Best Time to Buy and Sell Stock (只能交易一次)\n",
        "\n",
        "https://leetcode.com/problems/best-time-to-buy-and-sell-stock/"
      ]
    },
    {
      "cell_type": "code",
      "metadata": {
        "id": "luwN2omOht64"
      },
      "source": [
        ""
      ],
      "execution_count": null,
      "outputs": []
    },
    {
      "cell_type": "markdown",
      "metadata": {
        "id": "zLCyCZfiiSXw"
      },
      "source": [
        "## Best Time to Buy and Sell Stock (交易任意多次)\n",
        "\n",
        "https://leetcode.com/problems/best-time-to-buy-and-sell-stock-ii/"
      ]
    },
    {
      "cell_type": "code",
      "metadata": {
        "id": "cwFcQdRCiXPq"
      },
      "source": [
        "class Solution:\n",
        "    def maxProfit(self, prices: List[int]) -> int:\n",
        "        \n",
        "        n = len(prices)\n",
        "        if n <= 1:\n",
        "            return 0\n",
        "        \n",
        "        i = 0\n",
        "        j = 0\n",
        "        ans = 0\n",
        "        \n",
        "        while j < n-1:\n",
        "            if prices[j+1] >= prices[j]:\n",
        "                j += 1\n",
        "            else:\n",
        "                ans += prices[j]-prices[i]\n",
        "                j += 1\n",
        "                i = j\n",
        "        \n",
        "        ans += prices[j]-prices[i] #最后一次transaction\n",
        "        \n",
        "        return ans"
      ],
      "execution_count": null,
      "outputs": []
    },
    {
      "cell_type": "markdown",
      "metadata": {
        "id": "aimuSNJNjc9n"
      },
      "source": [
        "## Best Time to Buy and Sell Stock (只能交易2次)\n",
        "\n",
        "https://leetcode.com/problems/best-time-to-buy-and-sell-stock-iii/solution/"
      ]
    },
    {
      "cell_type": "code",
      "metadata": {
        "id": "Pvz3lt8ejkhd"
      },
      "source": [
        ""
      ],
      "execution_count": null,
      "outputs": []
    },
    {
      "cell_type": "markdown",
      "metadata": {
        "id": "JI6ZrpzQjlMK"
      },
      "source": [
        "## Best Time to Buy and Sell Stock (只能交易k次)\n",
        "\n",
        "https://leetcode.com/problems/best-time-to-buy-and-sell-stock-iv/solution/"
      ]
    },
    {
      "cell_type": "code",
      "metadata": {
        "id": "AZffPnDIjrSC"
      },
      "source": [
        ""
      ],
      "execution_count": null,
      "outputs": []
    },
    {
      "cell_type": "markdown",
      "metadata": {
        "id": "ryP1fMMYHLaF"
      },
      "source": [
        "## Trapping Rain Water (1.2)\n",
        "\n",
        "- time: $O(N)$\n",
        "- space: $O(1)$\n",
        "\n",
        "https://leetcode.com/problems/trapping-rain-water/"
      ]
    },
    {
      "cell_type": "code",
      "metadata": {
        "id": "0QTe_5WVITdV"
      },
      "source": [
        "class Solution:\n",
        "    def trap(self, height: List[int]) -> int:\n",
        "        if len(height) == 0:\n",
        "            return 0\n",
        "        left = 0\n",
        "        right = len(height)-1\n",
        "        left_max = 0\n",
        "        right_max = 0\n",
        "        count = 0\n",
        "        \n",
        "        while left < right:\n",
        "            if height[left] < height[right]:\n",
        "                if height[left] >= left_max:\n",
        "                    left_max = height[left]\n",
        "                else:\n",
        "                    count += left_max - height[left]\n",
        "                left += 1\n",
        "            else:\n",
        "                if height[right] >= right_max:\n",
        "                    right_max = height[right]\n",
        "                else:\n",
        "                    count += right_max - height[right]\n",
        "                right -= 1\n",
        "        return count"
      ],
      "execution_count": null,
      "outputs": []
    },
    {
      "cell_type": "code",
      "metadata": {
        "id": "VSp7ZlDmSnZx"
      },
      "source": [
        "'''\n",
        "如果高度为0的地方能漏水，则前后两个加入0作为哨兵，然后每一段都用trapping rain water的函数去扫一遍\n",
        "'''\n",
        "height = [0,1,0,2,1,0,1,3,2,1,2,1]\n",
        "def trap(l, r):\n",
        "    if r-l <= 3:\n",
        "        return 0\n",
        "    left = l\n",
        "    right = r\n",
        "    left_max = 0\n",
        "    right_max = 0\n",
        "    count = 0\n",
        "    \n",
        "    while left < right:\n",
        "        if height[left] < height[right]:\n",
        "            if height[left] >= left_max:\n",
        "                left_max = height[left]\n",
        "            else:\n",
        "                count += left_max - height[left]\n",
        "            left += 1\n",
        "        else:\n",
        "            if height[right] >= right_max:\n",
        "                right_max = height[right]\n",
        "            else:\n",
        "                count += right_max - height[right]\n",
        "            right -= 1\n",
        "    return count\n",
        "\n",
        "height = [0] + height + [0]\n",
        "print(height)\n",
        "pt1, pt2 = 0,1\n",
        "while pt2 < len(height):\n",
        "\n",
        "    tot_water = 0\n",
        "    if height[pt2] == 0:\n",
        "        print(pt1, pt2)\n",
        "        tot_water += trap(pt1,pt2)\n",
        "        pt1 = pt2\n",
        "    pt2 += 1\n",
        "print(tot_water)\n",
        "\n"
      ],
      "execution_count": null,
      "outputs": []
    },
    {
      "cell_type": "markdown",
      "metadata": {
        "id": "zdibmN7vRce0"
      },
      "source": [
        "## Trapping Rain Water II\n",
        "\n",
        "- time:\n",
        "- space: \n",
        "\n",
        "https://leetcode-cn.com/problems/trapping-rain-water-ii/solution/you-xian-dui-lie-de-si-lu-jie-jue-jie-yu-shui-ii-b/"
      ]
    },
    {
      "cell_type": "code",
      "metadata": {
        "id": "eujai7bBRa8K"
      },
      "source": [
        ""
      ],
      "execution_count": null,
      "outputs": []
    },
    {
      "cell_type": "markdown",
      "metadata": {
        "id": "jUmrhAIVWYqa"
      },
      "source": [
        "# String"
      ]
    },
    {
      "cell_type": "markdown",
      "metadata": {
        "id": "twRUniEQWaOS"
      },
      "source": [
        "## Decode String\n",
        "\n",
        "- Input: s = \"3[a2[c]]\" -> Output: \"accaccacc\"\n",
        "\n",
        "https://leetcode-cn.com/problems/decode-string/solution/decode-string-fu-zhu-zhan-fa-di-gui-fa-by-jyd/\n"
      ]
    },
    {
      "cell_type": "code",
      "metadata": {
        "id": "sD9yWHYOFhgP"
      },
      "source": [
        "'''\n",
        "Recursion\n",
        "Time: O(N)\n",
        "Space: O(N)\n",
        "'''\n",
        "class Solution:\n",
        "    def decodeString(self, s: str) -> str:\n",
        "        def dfs(s,i):\n",
        "            multi = 0\n",
        "            res = \"\"\n",
        "            while i < len(s):\n",
        "                if s[i].isdigit():\n",
        "                    multi = multi * 10 + int(s[i])\n",
        "                elif s[i] == '[':\n",
        "                    i, decoded_part = dfs(s, i+1)\n",
        "                    res = res + multi * decoded_part\n",
        "                    multi = 0\n",
        "                elif s[i] == ']':\n",
        "                    return i, res\n",
        "                else:\n",
        "                    res += s[i]\n",
        "                i += 1\n",
        "            return res\n",
        "        return dfs(s,0)"
      ],
      "execution_count": null,
      "outputs": []
    },
    {
      "cell_type": "code",
      "metadata": {
        "id": "boyhRgiVFsmL"
      },
      "source": [
        "'''\n",
        "Stack\n",
        "Time: O(N)\n",
        "Space: O(N)\n",
        "'''\n",
        "class Solution:\n",
        "    def decodeString(self, s: str) -> str:\n",
        "        stack = []\n",
        "        multi = 0\n",
        "        res = \"\"\n",
        "        for c in s:\n",
        "            if c.isdigit():\n",
        "                multi = 10 * multi + int(c)\n",
        "            elif c == '[':\n",
        "                stack.append((multi, res))\n",
        "                multi = 0\n",
        "                res = \"\"\n",
        "            elif c == ']':\n",
        "                times, prev_res = stack.pop()\n",
        "                res = prev_res + times * res\n",
        "            else:\n",
        "                res += c\n",
        "        return res"
      ],
      "execution_count": null,
      "outputs": []
    },
    {
      "cell_type": "markdown",
      "metadata": {
        "id": "PFIUNlzaUSpj"
      },
      "source": [
        "## Deepest string"
      ]
    },
    {
      "cell_type": "code",
      "metadata": {
        "id": "jTYQN1xiUVbl",
        "colab": {
          "base_uri": "https://localhost:8080/",
          "height": 35
        },
        "outputId": "1b4f92e2-34b6-445f-b3a6-7cb3238dbb74"
      },
      "source": [
        "# ((AB)(((CD)))) return depth 4 and string = CD\n",
        "\n",
        "def maxDepthSubstring(s):\n",
        "  depth = 0\n",
        "  max_depth = 0\n",
        "  left = 0\n",
        "  right = 0\n",
        "  for i in range(0, len(s)):\n",
        "    if s[i] == \"(\":\n",
        "      depth += 1\n",
        "      if depth > max_depth:\n",
        "        max_depth = depth\n",
        "        left = i + 1\n",
        "    elif s[i] == \")\":\n",
        "      # 判断是不是应该结束了\n",
        "      if depth == max_depth:\n",
        "        right = i\n",
        "      depth -= 1\n",
        "  return s[left:right]\n",
        "\n"
      ],
      "execution_count": null,
      "outputs": [
        {
          "output_type": "execute_result",
          "data": {
            "application/vnd.google.colaboratory.intrinsic+json": {
              "type": "string"
            },
            "text/plain": [
              "'CD'"
            ]
          },
          "metadata": {
            "tags": []
          },
          "execution_count": 1
        }
      ]
    },
    {
      "cell_type": "markdown",
      "metadata": {
        "id": "RcQFMMEYbVWZ"
      },
      "source": [
        "## Candy Crush 1D: k or more ✅\n",
        "\n",
        "- time: $O(N)$\n",
        "- space: $O(N)$\n",
        "\n",
        "https://leetcode.com/discuss/interview-question/380650/"
      ]
    },
    {
      "cell_type": "code",
      "metadata": {
        "id": "ilUXIRsabXwc",
        "colab": {
          "base_uri": "https://localhost:8080/",
          "height": 35
        },
        "outputId": "7d3bcd8e-1093-4261-a712-dca7c6c9bf61"
      },
      "source": [
        "# with stack\n",
        "def candyCrushGreedy(s):\n",
        "  if not s:\n",
        "    return \"\"\n",
        "\n",
        "  stk = []\n",
        "  i = 0\n",
        "\n",
        "  while i < len(s):\n",
        "    if not stk:\n",
        "      stk.append([s[i], 1])\n",
        "      i += 1\n",
        "    else:\n",
        "      if s[i] == stk[-1][0]:\n",
        "        stk[-1][1] += 1\n",
        "        i += 1\n",
        "      else: #s[i] != s[-1][0]\n",
        "        if stk[-1][1] >= 3:\n",
        "          stk.pop() #这里不+1\n",
        "        else:\n",
        "          stk.append([s[i], 1])\n",
        "          i += 1\n",
        "\n",
        "  if not stk:\n",
        "    return \"\"\n",
        "  if stk[-1][1] >= 3:\n",
        "    stk.pop()\n",
        "  \n",
        "  ans = []\n",
        "  for item in stk:\n",
        "    ans.append(item[0]* item[1])\n",
        "  return \"\".join(ans)\n",
        "\n",
        "candyCrushGreedy(\"dddabbbbaccccaax\")\n"
      ],
      "execution_count": null,
      "outputs": [
        {
          "output_type": "execute_result",
          "data": {
            "application/vnd.google.colaboratory.intrinsic+json": {
              "type": "string"
            },
            "text/plain": [
              "'x'"
            ]
          },
          "metadata": {
            "tags": []
          },
          "execution_count": 31
        }
      ]
    },
    {
      "cell_type": "markdown",
      "metadata": {
        "id": "xjVjhBRTlA88"
      },
      "source": [
        "## Candy Crash Optimal❓\n",
        "\n",
        "- time: $O(2^N)$\n",
        "- space: $O(2^N)$, 递归栈"
      ]
    },
    {
      "cell_type": "code",
      "metadata": {
        "id": "UvQ9Y6Uqebga"
      },
      "source": [
        "'''\n",
        "自己的写法\n",
        "'''\n",
        "\n",
        "s = \"caaabbbacddd\"\n",
        "k = 3\n",
        "def candyCrushOptimal(s,k):\n",
        "    arr = []\n",
        "    for c in s:\n",
        "      if not arr or c != arr[-1][0]:\n",
        "        arr.append([c,1])\n",
        "      else:\n",
        "        arr[-1][1] += 1\n",
        "    l, segs = 0, []\n",
        "    for ch, p in arr:\n",
        "      if p >= k:\n",
        "        segs.append((l, l+p))\n",
        "      l += p\n",
        "    return min([candyCrushOptimal(s[:l]+s[r:],k) for l,r in segs], key = len, default = s)\n",
        "candyCrushOptimal(s,k)"
      ],
      "execution_count": null,
      "outputs": []
    },
    {
      "cell_type": "code",
      "metadata": {
        "id": "qHdq2P8GxyqC"
      },
      "source": [
        "'''\n",
        "别人的写法\n",
        "'''\n",
        "\n",
        "from functools import lru_cache\n",
        "from itertools import groupby\n",
        "@lru_cache()\n",
        "def candyCrush1D_followup(S):\n",
        "    l, segs = 0, []\n",
        "    for c, seq in groupby(S):\n",
        "        k = len(list(seq))\n",
        "        if k >= 3:\n",
        "            segs.append((l, l + k))\n",
        "        l += k\n",
        "    return min([\n",
        "        candyCrush1D_followup(S[:l] + S[r:]) \n",
        "        for l, r in segs\n",
        "    ], key=len, default=S)\n",
        "\n",
        "candyCrush1D_followup(\"caaabbbacddd\")"
      ],
      "execution_count": null,
      "outputs": []
    },
    {
      "cell_type": "code",
      "metadata": {
        "id": "tLSBvbMjqj-4",
        "colab": {
          "base_uri": "https://localhost:8080/"
        },
        "outputId": "e7fb6263-7e09-4c57-8b77-74fc78fa1685"
      },
      "source": [
        "'''\n",
        "自己最开始的写法\n",
        "'''\n",
        "# candy cursh optimal\n",
        "\n",
        "# def func（str）\n",
        "#     if not removable\n",
        "#         return len str\n",
        "#     for all removable sub-str\n",
        "#         find min func(str after remove)\n",
        "#     return min\n",
        "\n",
        "def is_removable(s, k):\n",
        "  if len(s) < k:\n",
        "    return False, [s]\n",
        "  \n",
        "  if len(s) == 1 and k == 1:\n",
        "    return True, ['']\n",
        "\n",
        "  after_removal = []\n",
        "  slow, fast = 0,1\n",
        "\n",
        "  while fast < len(s):\n",
        "    if s[fast] != s[slow]:\n",
        "      #print(slow, fast)\n",
        "      if fast - slow >= k:\n",
        "        after_removal.append(s[:slow]+s[fast:])\n",
        "      slow = fast\n",
        "    fast += 1\n",
        "  if len(set(s[slow:])) == 1 and fast - slow >= k:\n",
        "    after_removal.append(s[:slow])\n",
        "  \n",
        "  if after_removal:\n",
        "    return True, after_removal\n",
        "  else:\n",
        "    return False, [s]\n",
        "    \n",
        "print(is_removable(\"caaabbbacddd\", 3))\n",
        "\n",
        "ans = []\n",
        "\n",
        "def candyCrushOptimal(s, k):\n",
        "  print(s,k,ans)\n",
        "  removable, substr = is_removable(s, k)\n",
        "  if not removable:\n",
        "    ans.append(s)\n",
        "  else:\n",
        "    for item in substr:\n",
        "      candyCrushOptimal(item, k)\n",
        "\n",
        "candyCrushOptimal('caaabbbacddd', 3)\n",
        "\n",
        "res = ans[0]\n",
        "for p in ans:\n",
        "  if len(p) < len(res):\n",
        "    res = p\n",
        "\n",
        "print(res)\n",
        "\n"
      ],
      "execution_count": null,
      "outputs": [
        {
          "output_type": "stream",
          "text": [
            "(True, ['cbbbacddd', 'caaaacddd', 'caaabbbac'])\n",
            "caaabbbacddd 3 []\n",
            "cbbbacddd 3 []\n",
            "cacddd 3 []\n",
            "cac 3 []\n",
            "cbbbac 3 ['cac']\n",
            "cac 3 ['cac']\n",
            "caaaacddd 3 ['cac', 'cac']\n",
            "ccddd 3 ['cac', 'cac']\n",
            "cc 3 ['cac', 'cac']\n",
            "caaaac 3 ['cac', 'cac', 'cc']\n",
            "cc 3 ['cac', 'cac', 'cc']\n",
            "caaabbbac 3 ['cac', 'cac', 'cc', 'cc']\n",
            "cbbbac 3 ['cac', 'cac', 'cc', 'cc']\n",
            "cac 3 ['cac', 'cac', 'cc', 'cc']\n",
            "caaaac 3 ['cac', 'cac', 'cc', 'cc', 'cac']\n",
            "cc 3 ['cac', 'cac', 'cc', 'cc', 'cac']\n",
            "cc\n"
          ],
          "name": "stdout"
        }
      ]
    },
    {
      "cell_type": "markdown",
      "metadata": {
        "id": "SzwIED4-i_D8"
      },
      "source": [
        "## Remove All Adjacent Duplicates in String II ✅\n",
        "\n",
        "https://leetcode.com/problems/remove-all-adjacent-duplicates-in-string-ii/"
      ]
    },
    {
      "cell_type": "code",
      "metadata": {
        "id": "Gu8eW9NmlcFF"
      },
      "source": [
        "class Solution:\n",
        "    def removeDuplicates(self, s: str, k: int) -> str:\n",
        "        # with stack\n",
        "        if not s:\n",
        "            return \"\"\n",
        "\n",
        "        stk = []\n",
        "        i = 0\n",
        "        while i < len(s):\n",
        "            if not stk or s[i] != stk[-1][0]:\n",
        "                stk.append([s[i], 1])\n",
        "            else:\n",
        "                stk[-1][1] += 1\n",
        "                if stk[-1][1] == k:\n",
        "                    stk.pop()\n",
        "            i += 1\n",
        "\n",
        "\n",
        "        if not stk:\n",
        "            return \"\"\n",
        "        \n",
        "        if stk[-1][1] == k:\n",
        "            stk.pop()\n",
        "\n",
        "        ans = []\n",
        "        \n",
        "        for item in stk:\n",
        "            ans.append(item[0]* item[1])\n",
        "            \n",
        "        return \"\".join(ans)\n"
      ],
      "execution_count": null,
      "outputs": []
    },
    {
      "cell_type": "markdown",
      "metadata": {
        "id": "WgGAa4B_3vXG"
      },
      "source": [
        "## Candy Crush 2D ✅\n",
        "https://leetcode.com/problems/candy-crush/"
      ]
    },
    {
      "cell_type": "code",
      "metadata": {
        "id": "xshAFn-y3xHM"
      },
      "source": [
        "class Solution:\n",
        "    def candyCrush(self, board: List[List[int]]) -> List[List[int]]:\n",
        "        \n",
        "        row, col = len(board), len(board[0])\n",
        "        \n",
        "        \n",
        "        while True:\n",
        "            crush = set()\n",
        "            for i in range(row):\n",
        "                for j in range(col):\n",
        "                    if i > 1 and board[i][j] and board[i-2][j] == board[i-1][j] == board[i][j]:\n",
        "                        crush |= {(i-2,j), (i-1,j), (i,j)}\n",
        "                    if j > 1 and board[i][j] and board[i][j-2] == board[i][j-1] == board[i][j]:\n",
        "                        crush |= {(i,j-2), (i,j-1), (i,j)}\n",
        "            if not crush:\n",
        "                break\n",
        "            else:\n",
        "                for i,j in crush:\n",
        "                    board[i][j] = 0\n",
        "            \n",
        "            for j in range(len(board[0])):\n",
        "                idx = len(board) - 1\n",
        "                for i in reversed(range(len(board))):\n",
        "                    #print(idx,j,i,j)\n",
        "                    if board[i][j]:\n",
        "                        board[idx][j] = board[i][j]\n",
        "                        idx -= 1\n",
        "                for i in range(idx + 1):\n",
        "                    #print(i)\n",
        "                    board[i][j] = 0\n",
        "        return board"
      ],
      "execution_count": null,
      "outputs": []
    },
    {
      "cell_type": "markdown",
      "metadata": {
        "id": "f2_BV0CCh4Qu"
      },
      "source": [
        "## Word Break ✅\n",
        "\n",
        "- time: $O(n^3)$. 2个循环+计算substring\n",
        "- space: $O(n)$\n",
        "\n",
        "https://leetcode.com/problems/word-break/\n"
      ]
    },
    {
      "cell_type": "code",
      "metadata": {
        "id": "5YXSRUV8h6Ac"
      },
      "source": [
        "class Solution:\n",
        "    def wordBreak(self, s: str, wordDict: List[str]) -> bool:\n",
        "        \n",
        "        wordDict = set(wordDict)\n",
        "        \n",
        "        n = len(s)\n",
        "        dp = [False] * (n+1) # first j char (number start at 0, jth char not included) of string could be reprsented\n",
        "        \n",
        "        dp[0] = True\n",
        "        \n",
        "        for i in range(n):\n",
        "            for j in range(i+1, n+1):\n",
        "                if dp[i] and s[i:j] in wordDict:\n",
        "                    dp[j] = True\n",
        "                    \n",
        "        return dp[-1]"
      ],
      "execution_count": null,
      "outputs": []
    },
    {
      "cell_type": "markdown",
      "metadata": {
        "id": "nSZllCERD87s"
      },
      "source": [
        "## Word Break II ✅\n",
        "\n",
        "- time: $O(N^3+2^N+W)$, $N^3$是循环的+求substring的复杂度，$2^N$是最多可能有的solution，$W$是字典size\n",
        "- space: $O(N^2+N \\times 2^N+W)$，$N^2$是DP复杂度，$2^N$是最多可能有的solution的recursion栈空间，$W$是字典size\n",
        "\n",
        "https://leetcode.com/problems/word-break-ii/"
      ]
    },
    {
      "cell_type": "code",
      "metadata": {
        "id": "GO2-IbOFD-jU"
      },
      "source": [
        "class Solution:\n",
        "    def wordBreak(self, s: str, wordDict: List[str]) -> List[str]:\n",
        "        \n",
        "        n = len(s)\n",
        "        wordDict = set(wordDict)\n",
        "        \n",
        "        dp = [[False, []] for _ in range(n+1)]\n",
        "        dp[0][0] = True\n",
        "        \n",
        "        for i in range(n):\n",
        "            for j in range(i+1, n+1):\n",
        "                if dp[i][0] and s[i:j] in wordDict:\n",
        "                    dp[j][0] = True\n",
        "                    dp[j][1].append((i,j)) # 储存下标，节省空间\n",
        "        \n",
        "        # print(dp)\n",
        "        if not dp[-1][0]:\n",
        "            return []\n",
        "        \n",
        "        ans = []\n",
        "        \n",
        "        def backtrack(index, res):\n",
        "            if not dp[index][1]:\n",
        "                ans.append(\" \".join(res[::-1]))\n",
        "                return\n",
        "            else:\n",
        "                for (i,j) in dp[index][1]:\n",
        "                    temp = res + [s[i:j]]\n",
        "                    backtrack(index-(j-i), temp)\n",
        "        backtrack(n, [])\n",
        "        \n",
        "        return ans"
      ],
      "execution_count": null,
      "outputs": []
    },
    {
      "cell_type": "markdown",
      "metadata": {
        "id": "l5F61iwY3JgK"
      },
      "source": [
        "## Valid Parenthesis\n",
        "\n",
        "https://leetcode.com/problems/valid-parentheses/"
      ]
    },
    {
      "cell_type": "code",
      "metadata": {
        "id": "A8cf5OJX3McF"
      },
      "source": [
        "class Solution:\n",
        "    def isValid(self, s: str) -> bool:\n",
        "        dic = {\")\":\"(\", \"}\":\"{\", \"]\":\"[\"}\n",
        "        stack = []\n",
        "        for i in s:\n",
        "            if i in {\"(\", \"[\", \"{\"}:\n",
        "                stack.append(i)\n",
        "            else:\n",
        "                if not stack:\n",
        "                    return False\n",
        "                elif stack and stack[-1] == dic[i]:\n",
        "                    stack.pop()\n",
        "                else:\n",
        "                    return False\n",
        "                    \n",
        "        if not stack:\n",
        "            return True\n",
        "        else:\n",
        "            return False"
      ],
      "execution_count": null,
      "outputs": []
    },
    {
      "cell_type": "markdown",
      "metadata": {
        "id": "gcHl1rJL3fOy"
      },
      "source": [
        "## Minimum Remove to Make Valid Parentheses\n",
        "\n",
        "https://leetcode.com/problems/minimum-remove-to-make-valid-parentheses/"
      ]
    },
    {
      "cell_type": "code",
      "metadata": {
        "id": "j7cm_ier3jhK"
      },
      "source": [
        ""
      ],
      "execution_count": null,
      "outputs": []
    },
    {
      "cell_type": "markdown",
      "metadata": {
        "id": "iVH9G65O5gMd"
      },
      "source": [
        "## Minimum Window Substring\n",
        "\n",
        "https://leetcode.com/problems/minimum-window-substring/"
      ]
    },
    {
      "cell_type": "code",
      "metadata": {
        "id": "tZjgtH_q5pQN"
      },
      "source": [
        "class Solution:\n",
        "    def minWindow(self, s: str, t: str) -> str:\n",
        "        \n",
        "        from collections import Counter\n",
        "        \n",
        "        if not s or not t:\n",
        "            return \"\"\n",
        "        \n",
        "        l,r = 0,0\n",
        "        \n",
        "        t = Counter(t)\n",
        "        required = len(t)\n",
        "        formed = 0 # this is a label\n",
        "        dic = {}\n",
        "        \n",
        "        import math\n",
        "        \n",
        "        minlen = math.inf\n",
        "        ind = 0\n",
        "        \n",
        "        while r < len(s):\n",
        "            while formed < required: # not desirable\n",
        "                if s[r] in t and s[r] in dic:\n",
        "                    dic[s[r]] += 1\n",
        "                elif s[r] in t and s[r] not in dic:\n",
        "                    dic[s[r]] = 1\n",
        "                \n",
        "                if s[r] in t and t[s[r]] == dic[s[r]]:\n",
        "                    formed += 1                \n",
        "                r += 1\n",
        "                \n",
        "                if r >= len(s):\n",
        "                    break\n",
        "            \n",
        "            if r-l < minlen and formed == required:\n",
        "                minlen = r-l\n",
        "                ind = l\n",
        "                \n",
        "\n",
        "                \n",
        "            while l < r and formed == required:\n",
        "                if r-l < minlen:\n",
        "                        minlen = r-l\n",
        "                        ind = l                \n",
        "                if s[l] in t and s[l] in dic:\n",
        "                    dic[s[l]] -= 1\n",
        "                    if s[l] in t and dic[s[l]] < t[s[l]]:\n",
        "                        formed -= 1\n",
        "                    if dic[s[l]] == 0:\n",
        "                        dic.pop(s[l])\n",
        "                    \n",
        "                l += 1\n",
        "            \n",
        "\n",
        "        return \"\" if minlen == math.inf else s[ind:ind + minlen]\n",
        "                "
      ],
      "execution_count": null,
      "outputs": []
    },
    {
      "cell_type": "markdown",
      "metadata": {
        "id": "niNYtiM7HaRe"
      },
      "source": [
        "## Anagram"
      ]
    },
    {
      "cell_type": "markdown",
      "metadata": {
        "id": "noWLPyMzHbro"
      },
      "source": [
        "### Minimum Number of Steps to Make Two Strings Anagram\n",
        "https://leetcode.com/problems/minimum-number-of-steps-to-make-two-strings-anagram/"
      ]
    },
    {
      "cell_type": "code",
      "metadata": {
        "id": "u255-a2gHiJZ"
      },
      "source": [
        "from collections import Counter\n",
        "class Solution:\n",
        "    def minSteps(self, s: str, t: str) -> int:\n",
        "        \n",
        "        s = Counter(s)\n",
        "        \n",
        "        ans = 0\n",
        "        \n",
        "        for i in t:\n",
        "            if i not in s:\n",
        "                ans += 1\n",
        "            else:\n",
        "                s[i] -= 1\n",
        "                if s[i] == 0:\n",
        "                    del s[i]\n",
        "                    \n",
        "        return ans"
      ],
      "execution_count": null,
      "outputs": []
    },
    {
      "cell_type": "markdown",
      "metadata": {
        "id": "AySbFjhnHkyO"
      },
      "source": [
        "### Group Anagrams\n",
        "\n",
        "- time: O(NK), N = len(strs), K longest\n",
        "- space: O(N), 常数是26，所以还是O(n)\n",
        "\n",
        "https://leetcode.com/problems/group-anagrams/"
      ]
    },
    {
      "cell_type": "code",
      "metadata": {
        "id": "R3y4B_nmGuj1"
      },
      "source": [
        "# array\n",
        "class Solution:\n",
        "    def groupAnagrams(self, strs):\n",
        "        ans = collections.defaultdict(list)\n",
        "        for s in strs:\n",
        "            count = [0] * 26\n",
        "            for c in s:\n",
        "                count[ord(c) - ord('a')] += 1\n",
        "            ans[tuple(count)].append(s)\n",
        "        return ans.values()\n",
        "\n",
        "# hashmap\n",
        "# time: O(NKlogK)\n",
        "class Solution(object):\n",
        "    def groupAnagrams(self, strs):\n",
        "        ans = collections.defaultdict(list)\n",
        "        for s in strs:\n",
        "            ans[tuple(sorted(s))].append(s)\n",
        "        return ans.values()"
      ],
      "execution_count": null,
      "outputs": []
    },
    {
      "cell_type": "markdown",
      "metadata": {
        "id": "vz7pKFmqHIrE"
      },
      "source": [
        "### Find All Anagrams in a String\n",
        "\n",
        "- time: O(len(s)+len(p)), 字符遍历一次\n",
        "- space: O(1)，最多26个字母。如果不是的话就需要建对应的字典\n",
        "\n",
        "https://leetcode.com/problems/find-all-anagrams-in-a-string/"
      ]
    },
    {
      "cell_type": "code",
      "metadata": {
        "id": "oV8y_z4CI1yl"
      },
      "source": [
        "from collections import Counter\n",
        "class Solution:\n",
        "    def findAnagrams(self, s: str, p: str) -> List[int]:\n",
        "        ns, np = len(s), len(p)\n",
        "        if ns < np:\n",
        "            return []\n",
        "\n",
        "        p_count = Counter(p)\n",
        "        s_count = Counter()\n",
        "        \n",
        "        output = []\n",
        "        # sliding window on the string s\n",
        "        for i in range(ns):\n",
        "            # add one more letter \n",
        "            # on the right side of the window\n",
        "            s_count[s[i]] += 1\n",
        "            # remove one letter \n",
        "            # from the left side of the window\n",
        "            if i >= np:\n",
        "                if s_count[s[i - np]] == 1:\n",
        "                    del s_count[s[i - np]]\n",
        "                else:\n",
        "                    s_count[s[i - np]] -= 1\n",
        "            # compare array in the sliding window\n",
        "            # with the reference array\n",
        "            if p_count == s_count:\n",
        "                output.append(i - np + 1)\n",
        "        \n",
        "        return output"
      ],
      "execution_count": null,
      "outputs": []
    },
    {
      "cell_type": "markdown",
      "metadata": {
        "id": "OQ67r1scRV0T"
      },
      "source": [
        "# Graph"
      ]
    },
    {
      "cell_type": "markdown",
      "metadata": {
        "id": "CWG6gNPORXeS"
      },
      "source": [
        "## All Paths From Source to Target✅\n",
        "\n",
        "- time: $O(2^N)$，最糟糕的情况下，路径以指数级别增长\n",
        "- space: $O(N \\times 2^N)$，最糟糕的情况下，储存路径的空间\n",
        "\n",
        "https://leetcode.com/problems/all-paths-from-source-to-target/"
      ]
    },
    {
      "cell_type": "code",
      "metadata": {
        "id": "flbpAshWRXHC"
      },
      "source": [
        "'''\n",
        "自己的解法\n",
        "'''\n",
        "class Solution:\n",
        "    def allPathsSourceTarget(self, graph: List[List[int]]) -> List[List[int]]:\n",
        "        ans = []\n",
        "        \n",
        "        def dfs(i, route):\n",
        "            if route[-1] == len(graph)-1:\n",
        "                ans.append(route)\n",
        "                return\n",
        "            \n",
        "            for item in graph[i]:\n",
        "                temp = route + [item]\n",
        "                dfs(item, temp)\n",
        "        dfs(0, [0])\n",
        "        return ans"
      ],
      "execution_count": null,
      "outputs": []
    },
    {
      "cell_type": "markdown",
      "metadata": {
        "id": "32ybctjh58UI"
      },
      "source": [
        "## Evaluate Division\n",
        "\n",
        "https://leetcode.com/problems/evaluate-division"
      ]
    },
    {
      "cell_type": "code",
      "metadata": {
        "id": "mcK7mEXT6D-2"
      },
      "source": [
        "'''\n",
        "BFS\n",
        "'''\n",
        "from collections import deque\n",
        "from collections import defaultdict\n",
        "class Solution:\n",
        "    def calcEquation(self, equations: List[List[str]], values: List[float], queries: List[List[str]]) -> List[float]:\n",
        "        path = defaultdict(dict)\n",
        "        for [src,dst],val in zip(equations, values):\n",
        "            path[src][dst] = val\n",
        "            path[dst][src] = 1/val\n",
        "\n",
        "        ans = []\n",
        "        for src,dst in queries:\n",
        "            if src not in path or dst not in path:\n",
        "                ans.append(-1.0)\n",
        "                continue\n",
        "            pt = src\n",
        "            q = deque([(pt,float(1.0))])\n",
        "            seen = set()\n",
        "            flag = 0\n",
        "            while q:\n",
        "                pt,val = q.popleft()\n",
        "                # update each path\n",
        "                if pt not in path[src] and pt != src:\n",
        "                    path[src][pt] = val\n",
        "                    path[pt][src] = 1/val\n",
        "                    \n",
        "                if pt == dst:\n",
        "                    ans.append(val)\n",
        "                    flag = 1\n",
        "                    break\n",
        "                seen.add(pt)\n",
        "                for nxt in path[pt]:\n",
        "                    if nxt not in seen:\n",
        "                        q.append((nxt, val*path[pt][nxt]))\n",
        "                        \n",
        "                        \n",
        "            if not flag:\n",
        "                ans.append(float(-1.0))\n",
        "        return ans\n",
        "                \n",
        "'''\n",
        "DFS\n",
        "'''\n",
        "class Solution:\n",
        "    def calcEquation(self, equations: List[List[str]], values: List[float], queries: List[List[str]]) -> List[float]:\n",
        "\n",
        "        graph = defaultdict(defaultdict)\n",
        "\n",
        "        def backtrack_evaluate(curr_node, target_node, acc_product, visited):\n",
        "            visited.add(curr_node)\n",
        "            ret = -1.0\n",
        "            neighbors = graph[curr_node]\n",
        "            if target_node in neighbors:\n",
        "                ret = acc_product * neighbors[target_node]\n",
        "            else:\n",
        "                for neighbor, value in neighbors.items():\n",
        "                    if neighbor in visited:\n",
        "                        continue\n",
        "                    ret = backtrack_evaluate(\n",
        "                        neighbor, target_node, acc_product * value, visited)\n",
        "                    if ret != -1.0:\n",
        "                        break\n",
        "            visited.remove(curr_node)\n",
        "            return ret\n",
        "\n",
        "        # Step 1). build the graph from the equations\n",
        "        for (dividend, divisor), value in zip(equations, values):\n",
        "            # add nodes and two edges into the graph\n",
        "            graph[dividend][divisor] = value\n",
        "            graph[divisor][dividend] = 1 / value\n",
        "\n",
        "        # Step 2). Evaluate each query via backtracking (DFS)\n",
        "        #  by verifying if there exists a path from dividend to divisor\n",
        "        results = []\n",
        "        for dividend, divisor in queries:\n",
        "            if dividend not in graph or divisor not in graph:\n",
        "                # case 1): either node does not exist\n",
        "                ret = -1.0\n",
        "            elif dividend == divisor:\n",
        "                # case 2): origin and destination are the same node\n",
        "                ret = 1.0\n",
        "            else:\n",
        "                visited = set()\n",
        "                ret = backtrack_evaluate(dividend, divisor, 1, visited)\n",
        "            results.append(ret)\n",
        "\n",
        "        return results"
      ],
      "execution_count": null,
      "outputs": []
    },
    {
      "cell_type": "markdown",
      "metadata": {
        "id": "w2Xdwea3Jf_3"
      },
      "source": [
        "## Number of Ships in a Rectangle (Divide and Conquer)\n",
        "\n",
        "https://leetcode.com/problems/number-of-ships-in-a-rectangle/"
      ]
    },
    {
      "cell_type": "code",
      "metadata": {
        "id": "1I_4XyM3JpSJ"
      },
      "source": [
        "class Solution(object):\n",
        "    def countShips(self, sea: 'Sea', topRight: 'Point', bottomLeft: 'Point') -> int:\n",
        "        \n",
        "        x,y = bottomLeft.x, bottomLeft.y\n",
        "        X,Y = topRight.x, topRight.y\n",
        "        \n",
        "        if x > X or y > Y or not sea.hasShips(topRight, bottomLeft):\n",
        "            return 0\n",
        "        \n",
        "        if x == X and y == Y:\n",
        "            return 1\n",
        "        \n",
        "        xm = (x+X)//2\n",
        "        ym = (y+Y)//2\n",
        "        \n",
        "        ans = 0\n",
        "        \n",
        "        ans += self.countShips(sea, Point(xm,ym), bottomLeft)\n",
        "        ans += self.countShips(sea, Point(X,ym), Point(xm+1,y))\n",
        "        ans += self.countShips(sea, Point(xm,Y), Point(x,ym+1))\n",
        "        ans += self.countShips(sea, topRight, Point(xm+1,ym+1))\n",
        "        \n",
        "        return ans"
      ],
      "execution_count": null,
      "outputs": []
    },
    {
      "cell_type": "markdown",
      "metadata": {
        "id": "1i-P8CS4tHWD"
      },
      "source": [
        "## Reconstruct Itinerary\n",
        "\n",
        "时间复杂度：O(mlogm)，其中 m 是边的数量。对于每一条边我们需要 O(logm) 地删除它，最终的答案序列长度为 m+1，而与 n 无关。\n",
        "\n",
        "空间复杂度：O(m)，其中 m 是边的数量。我们需要存储每一条边。\n",
        "\n",
        "\n",
        "https://leetcode-cn.com/problems/reconstruct-itinerary/solution/zhong-xin-an-pai-xing-cheng-by-leetcode-solution/"
      ]
    },
    {
      "cell_type": "code",
      "metadata": {
        "id": "KeOckWMJvaKB"
      },
      "source": [
        "class Solution:\n",
        "    def findItinerary(self, tickets: List[List[str]]) -> List[str]:\n",
        "        def dfs(curr: str):\n",
        "            while vec[curr]:\n",
        "                tmp = heapq.heappop(vec[curr])\n",
        "                dfs(tmp)\n",
        "            stack.append(curr)\n",
        "\n",
        "        vec = collections.defaultdict(list)\n",
        "        for depart, arrive in tickets:\n",
        "            vec[depart].append(arrive)\n",
        "        for key in vec:\n",
        "            heapq.heapify(vec[key])\n",
        "        \n",
        "        stack = list()\n",
        "        dfs(\"JFK\")\n",
        "        return stack[::-1]\n"
      ],
      "execution_count": null,
      "outputs": []
    },
    {
      "cell_type": "markdown",
      "metadata": {
        "id": "RSNzZA2qR6wV"
      },
      "source": [
        "## Number of Island ✅\n",
        "\n",
        "time: O(M $\\times$ N), space:O(M $\\times$ N)\n",
        "\n",
        "\n",
        "https://leetcode.com/problems/number-of-islands/"
      ]
    },
    {
      "cell_type": "code",
      "metadata": {
        "id": "TSeQzgwCSBKS"
      },
      "source": [
        "class Solution:\n",
        "    #递归：递推+回归；迭代：类似for循环\n",
        "    #好像应该用递归\n",
        "    \n",
        "    def DFS(self, i, j, grid):  \n",
        "        \n",
        "        #学会怎么写递归终止的条件\n",
        "        if i < 0 or j < 0 or i == len(grid) or j == len(grid[0]) or grid[i][j] != '1':\n",
        "            return\n",
        "        else:\n",
        "            grid[i][j] = '0'\n",
        "        \n",
        "        self.DFS(i,j+1,grid)\n",
        "        self.DFS(i+1,j,grid)\n",
        "        self.DFS(i-1,j,grid)\n",
        "        self.DFS(i,j-1,grid)\n",
        "        \n",
        "    def numIslands(self, grid: List[List[str]]) -> int:\n",
        "        #只需要过滤一遍每一个块就行了。这非常简单。之后set了0就没问题\n",
        "        #DFS：访问顶点S，若S有尚未被访问到的邻居，则任取一个访问，重复上述步骤\n",
        "        #BFS：访问顶点S，依此访问S所有尚未访问的临接顶点，重复以上步骤\n",
        "        island = 0\n",
        "        for i in range(0, len(grid)):\n",
        "            for j in range(0, len(grid[0])):\n",
        "                if grid[i][j] == '1': #每找见一个1，就是一个新的岛被发现了\n",
        "                    island += 1\n",
        "                    self.DFS(i,j,grid)\n",
        "        return island"
      ],
      "execution_count": null,
      "outputs": []
    },
    {
      "cell_type": "markdown",
      "metadata": {
        "id": "S91O46GW_HB3"
      },
      "source": [
        "## Max Area of Island\n",
        "\n",
        "time: O(mn), space: O(mn)\n",
        "\n",
        "https://leetcode.com/problems/max-area-of-island/"
      ]
    },
    {
      "cell_type": "code",
      "metadata": {
        "id": "jNSEEa0s_Lir"
      },
      "source": [
        "class Solution:\n",
        "    \n",
        "    def dfs(self,i,j,grid):\n",
        "        if i < 0 or j < 0 or i == len(grid) or j == len(grid[0]) or grid[i][j] != 1:\n",
        "            return 0\n",
        "        else:\n",
        "            grid[i][j] = 0\n",
        "            return (1+self.dfs(i,j+1,grid)+self.dfs(i+1,j,grid)+self.dfs(i-1,j,grid)+self.dfs(i,j-1,grid))\n",
        "    \n",
        "    def maxAreaOfIsland(self, grid: List[List[int]]) -> int:\n",
        "        ans = 0\n",
        "        \n",
        "        for i in range(len(grid)):\n",
        "            for j in range(len(grid[0])):\n",
        "                if grid[i][j] == 1:\n",
        "                    temp = self.dfs(i,j,grid)\n",
        "                    ans = max(temp,ans)\n",
        "        return ans"
      ],
      "execution_count": null,
      "outputs": []
    },
    {
      "cell_type": "markdown",
      "metadata": {
        "id": "ZvxC0GX0_luu"
      },
      "source": [
        "## Island Perimeter\n",
        "\n",
        "time: O(mn), space: O(mn)\n",
        "\n",
        "每当在 DFS 遍历中，从一个岛屿方格走向一个非岛屿方格，就将周长加 1\n",
        "\n",
        "https://leetcode.com/problems/island-perimeter/"
      ]
    },
    {
      "cell_type": "code",
      "metadata": {
        "id": "DUD1SCnWAC1K"
      },
      "source": [
        "class Solution:\n",
        "    \n",
        "    def dfs(self, i,j, grid):\n",
        "        if i < 0 or j < 0 or i == len(grid) or j == len(grid[0]) or grid[i][j] == 0:\n",
        "            return 1\n",
        "        elif grid[i][j] == 2:\n",
        "            return 0\n",
        "        else: # grid[i][j] == 1\n",
        "            grid[i][j] = 2\n",
        "            return self.dfs(i-1,j, grid)+self.dfs(i+1,j, grid)+self.dfs(i,j-1, grid)+self.dfs(i,j+1, grid)\n",
        "\n",
        "    \n",
        "    def islandPerimeter(self, grid: List[List[int]]) -> int:\n",
        "        \n",
        "        for i in range(0, len(grid)):\n",
        "            for j in range(0, len(grid[0])):\n",
        "                if grid[i][j] == 1: #每找见一个1，就是一个新的岛被发现了，本题的情况是只有一个岛，如果有多个就不能直接return了\n",
        "                    return self.dfs(i,j,grid)"
      ],
      "execution_count": null,
      "outputs": []
    },
    {
      "cell_type": "markdown",
      "metadata": {
        "id": "y2BlZYhX1Lbm"
      },
      "source": [
        "## Toplogical Sort\n"
      ]
    },
    {
      "cell_type": "markdown",
      "metadata": {
        "id": "Eif5xJmB1TXs"
      },
      "source": [
        "### Alien Dictionary\n",
        "\n",
        "https://leetcode.com/problems/alien-dictionary/"
      ]
    },
    {
      "cell_type": "code",
      "metadata": {
        "id": "OANxO-js1a-R"
      },
      "source": [
        "from collections import deque\n",
        "class Solution:\n",
        "    def alienOrder(self, words: List[str]) -> str:\n",
        "        \n",
        "        # edge case\n",
        "        if len(words) == 1:\n",
        "            return \"\".join(list(words[0]))\n",
        "        \n",
        "        # init\n",
        "        edges = {c : set() for word in words for c in word}\n",
        "        indeg = {c: 0 for c in edges}\n",
        "\n",
        "        # build graph, record indegree\n",
        "        for ind in range(len(words)-1):\n",
        "            word1 = words[ind]\n",
        "            word2 = words[ind + 1]\n",
        "            # edge case of [\"abc\", \"ab\"]\n",
        "            if word1.startswith(word2) and word2 != word1:\n",
        "                return \"\"\n",
        "            # build adjency graph, record indegree\n",
        "            for i in range(min(len(word1), len(word2))):\n",
        "                if word1[i] != word2[i]:\n",
        "                    # avoid double count\n",
        "                    if word2[i] not in edges[word1[i]]:\n",
        "                        edges[word1[i]].add(word2[i])\n",
        "                        indeg[word2[i]] += 1\n",
        "                    break\n",
        "\n",
        "        # init queue\n",
        "        q = deque()\n",
        "        for key in indeg:\n",
        "            if indeg[key] == 0:\n",
        "                q.append(key)\n",
        "        \n",
        "        # toplogical sort\n",
        "        ans = \"\"     \n",
        "        while q:\n",
        "            temp = q.popleft()\n",
        "            ans += temp\n",
        "\n",
        "            if edges[ans[-1]]:\n",
        "                for c in edges[ans[-1]]:\n",
        "                    indeg[c] -= 1\n",
        "                    if indeg[c] == 0:\n",
        "                        q.append(c)\n",
        "\n",
        "        # return answer\n",
        "        return ans if len(ans) == len(edges) else \"\""
      ],
      "execution_count": null,
      "outputs": []
    },
    {
      "cell_type": "markdown",
      "metadata": {
        "id": "0M5p-1iJHVL0"
      },
      "source": [
        "### Course Schedule II\n",
        "\n",
        "https://leetcode.com/problems/course-schedule-ii/"
      ]
    },
    {
      "cell_type": "code",
      "metadata": {
        "id": "fzofMt6kHY3I"
      },
      "source": [
        "class Solution:\n",
        "    def findOrder(self, numCourses: int, prerequisites: List[List[int]]) -> List[int]:\n",
        "        # network dictionary\n",
        "        dic = {}\n",
        "        # in-degree dictionary\n",
        "        indeg = {}\n",
        "        for i in range(numCourses):\n",
        "            dic[i] = set()\n",
        "            indeg[i] = 0\n",
        "        for x in prerequisites:\n",
        "            dic[x[1]].add(x[0])\n",
        "            indeg[x[0]] += 1\n",
        "        \n",
        "        q = []\n",
        "        ans = []\n",
        "        \n",
        "        for i in indeg:\n",
        "            if indeg[i] == 0:\n",
        "                q.append(i)\n",
        "        \n",
        "        while q:\n",
        "            temp = q.pop()\n",
        "            ans.append(temp)\n",
        "            for x in dic[temp]:\n",
        "                indeg[x] -= 1\n",
        "                if indeg[x] == 0:\n",
        "                    q.append(x)\n",
        "\n",
        "        return ans if len(ans) == numCourses else []"
      ],
      "execution_count": null,
      "outputs": []
    },
    {
      "cell_type": "markdown",
      "metadata": {
        "id": "JGDVjBrRQCYV"
      },
      "source": [
        "### Course Schedule\n",
        "\n",
        "https://leetcode.com/problems/course-schedule/\n",
        "\n",
        "与上一个题唯一的区别就是不需要"
      ]
    },
    {
      "cell_type": "code",
      "metadata": {
        "id": "Cn6PurjdQCHZ"
      },
      "source": [
        ""
      ],
      "execution_count": null,
      "outputs": []
    },
    {
      "cell_type": "markdown",
      "metadata": {
        "id": "s3Qj1BpoxxEN"
      },
      "source": [
        "# Dynamic Programming\n",
        "\n"
      ]
    },
    {
      "cell_type": "markdown",
      "metadata": {
        "id": "rHYTeyCZx1cN"
      },
      "source": [
        "## Number of Dice Rolls With Target Sum\n",
        "\n",
        "- time: $O(d \\times f \\times target)$\n",
        "- space: $O(d \\times f)$\n",
        "\n",
        "https://leetcode-cn.com/problems/number-of-dice-rolls-with-target-sum/solution/zuo-ti-guo-cheng-ji-lu-dpjie-fa-by-maverickbytes/"
      ]
    },
    {
      "cell_type": "code",
      "metadata": {
        "id": "WhtTq5-Mx0kj"
      },
      "source": [
        "class Solution:\n",
        "    def numRollsToTarget(self, d: int, f: int, target: int) -> int:\n",
        "        MOD = 10**9+7\n",
        "\n",
        "        # DP table\n",
        "        dp = [[0]*(target+1) for _ in range(d+1)]\n",
        "\n",
        "        # Initialization\n",
        "        dp[0][0]=1\n",
        "\n",
        "        # Recurrence Formula\n",
        "        for i in range(1, d+1):\n",
        "            for j in range(i, target+1):\n",
        "                for k in range(1,min(f,j)+1):\n",
        "                    dp[i][j] = (dp[i][j] + dp[i-1][j-k]) % MOD\n",
        "                    \n",
        "        # Result\n",
        "        return dp[d][target]\n"
      ],
      "execution_count": null,
      "outputs": []
    },
    {
      "cell_type": "markdown",
      "metadata": {
        "id": "QE39IJ7Jz9bG"
      },
      "source": [
        "## Coin Change\n",
        "\n",
        "- time: O(amount $\\times$ n), amount: 钱数，n: coin数\n",
        "- space: O(amount)\n",
        "\n",
        "https://leetcode.com/problems/coin-change/solution/"
      ]
    },
    {
      "cell_type": "code",
      "metadata": {
        "id": "FJEasi6Kz_i0"
      },
      "source": [
        "class Solution:\n",
        "    def coinChange(self, coins: List[int], amount: int) -> int:\n",
        "        import math\n",
        "        T = [math.inf] * (amount + 1)\n",
        "        if amount == 0:\n",
        "            return 0\n",
        "        for i in coins:\n",
        "            if i < amount +1:\n",
        "                T[i] = 1\n",
        "        #print(T)\n",
        "        for j in range(1, amount +1):\n",
        "            temp = T[j]\n",
        "            for k in coins:\n",
        "                if k < j:\n",
        "                    temp = min(temp, T[j-k] + 1)\n",
        "            T[j] = temp\n",
        "            #print(\"j:\", j, \" T[j]: \",T[j])\n",
        "        \n",
        "        #print(T)\n",
        "        if T[-1] ==  math.inf:\n",
        "            return -1\n",
        "        else:\n",
        "            return T[-1]"
      ],
      "execution_count": null,
      "outputs": []
    },
    {
      "cell_type": "markdown",
      "metadata": {
        "id": "5HPwS4Xg1-2x"
      },
      "source": [
        "## Coin Change 2\n",
        "\n",
        "- time: O(amount $\\times$ n), amount: 钱数，n: coin数\n",
        "- spacce: O(amount)\n",
        "\n",
        "https://leetcode.com/problems/coin-change-2/"
      ]
    },
    {
      "cell_type": "code",
      "metadata": {
        "id": "GeS4jQ712BEK"
      },
      "source": [
        "class Solution:\n",
        "    def change(self, amount: int, coins: List[int]) -> int:\n",
        "        \n",
        "        dp = [0] * (amount+1)\n",
        "        \n",
        "        dp[0] = 1\n",
        "        \n",
        "        for c in coins:\n",
        "            for i in range(1, amount+1):\n",
        "                if i-c >= 0:\n",
        "                    dp[i] += dp[i-c]\n",
        "        return dp[-1]"
      ],
      "execution_count": null,
      "outputs": []
    },
    {
      "cell_type": "markdown",
      "metadata": {
        "id": "jUCc15umKnUv"
      },
      "source": [
        "# Design"
      ]
    },
    {
      "cell_type": "markdown",
      "metadata": {
        "id": "7RAhANJ2KqpB"
      },
      "source": [
        "## Insert Delete GetRandom O(1) ✅\n",
        "\n",
        "https://leetcode.com/problems/insert-delete-getrandom-o1/"
      ]
    },
    {
      "cell_type": "code",
      "metadata": {
        "id": "MO0XGVr-Koid"
      },
      "source": [
        "# hashmap + array list\n",
        "class RandomizedSet:\n",
        "\n",
        "    def __init__(self):\n",
        "        \"\"\"\n",
        "        Initialize your data structure here.\n",
        "        \"\"\"\n",
        "        self.dic = {}\n",
        "        self.arr = []\n",
        "        \n",
        "\n",
        "    def insert(self, val: int) -> bool:\n",
        "        \"\"\"\n",
        "        Inserts a value to the set. Returns true if the set did not already contain the specified element.\n",
        "        \"\"\"\n",
        "        if val in self.dic:\n",
        "            return False\n",
        "        else:\n",
        "            self.arr.append(val)\n",
        "            self.dic[val] = len(self.arr)-1\n",
        "            return True\n",
        "        \n",
        "        \n",
        "\n",
        "    def remove(self, val: int) -> bool:\n",
        "        \"\"\"\n",
        "        Removes a value from the set. Returns true if the set contained the specified element.\n",
        "        swap with \n",
        "        \"\"\"\n",
        "        if val not in self.dic:\n",
        "            return False\n",
        "        idx = self.dic[val]\n",
        "        self.dic[self.arr[-1]] = idx\n",
        "        self.arr[-1], self.arr[idx] = self.arr[idx], self.arr[-1]\n",
        "        self.arr.pop()\n",
        "        del self.dic[val]\n",
        "        return True\n",
        "        \n",
        "        \n",
        "\n",
        "    def getRandom(self) -> int:\n",
        "        \"\"\"\n",
        "        Get a random element from the set.\n",
        "        \"\"\"\n",
        "        return choice(self.arr)\n",
        "        \n",
        "\n",
        "\n",
        "# Your RandomizedSet object will be instantiated and called as such:\n",
        "# obj = RandomizedSet()\n",
        "# param_1 = obj.insert(val)\n",
        "# param_2 = obj.remove(val)\n",
        "# param_3 = obj.getRandom()\n"
      ],
      "execution_count": null,
      "outputs": []
    },
    {
      "cell_type": "markdown",
      "metadata": {
        "id": "YU4Dy67bSyeq"
      },
      "source": [
        "## Min stack\n",
        "\n",
        "https://leetcode.com/problems/min-stack/"
      ]
    },
    {
      "cell_type": "code",
      "metadata": {
        "id": "BXo1NiC7Sx-b"
      },
      "source": [
        " class MinStack:\n",
        "\n",
        "    def __init__(self):\n",
        "        self.stack = []\n",
        "        \n",
        "\n",
        "    def push(self, x: int) -> None:\n",
        "        \n",
        "        # If the stack is empty, then the min value\n",
        "        # must just be the first value we add\n",
        "        if not self.stack:\n",
        "            self.stack.append((x, x))\n",
        "            return\n",
        "\n",
        "        current_min = self.stack[-1][1]\n",
        "        self.stack.append((x, min(x, current_min)))\n",
        "        \n",
        "        \n",
        "    def pop(self) -> None:\n",
        "        self.stack.pop()\n",
        "        \n",
        "\n",
        "    def top(self) -> int:\n",
        "        return self.stack[-1][0]\n",
        "        \n",
        "    def getMin(self) -> int:\n",
        "        return self.stack[-1][1]"
      ],
      "execution_count": null,
      "outputs": []
    },
    {
      "cell_type": "markdown",
      "metadata": {
        "id": "3PYZIlvbRW9n"
      },
      "source": [
        "## Underground System\n",
        "\n",
        "https://leetcode.com/problems/design-underground-system/\n"
      ]
    },
    {
      "cell_type": "markdown",
      "metadata": {
        "id": "93AbhOhybVv8"
      },
      "source": [
        "- 需求：\n",
        "  - checkIn 和 checkOut 更新数据库\n",
        "    - checkout的时候，及时删除old data，避免浪费内存\n",
        "  - getAverage计算平均时间，根据实际情况决定两种储存方式\n",
        "    - 储存average：可能会有float point error\n",
        "    - 储存total：可能会更早overflow\n",
        "\n",
        "- 数据结构：2个hash map\n",
        "  - journey:（起点，终点）-> 路程时间\n",
        "  - check_in: id -> [起点，刷入时间]\n",
        "\n",
        "- 逻辑：\n",
        "\n",
        "- 特殊情况：\n",
        "  - 重复刷入：update\n",
        "  - 只刷入不刷出：不会计入\n",
        "\n",
        "- 现实场景系统设计问题：\n",
        "  - store data in database\n",
        "  - scalability (很多人，每秒钟上千次checkin/checkout，怎么办)\n",
        "  - 很多个电脑协同，并发（concurrency）问题怎么解决\n",
        "\n"
      ]
    },
    {
      "cell_type": "code",
      "metadata": {
        "id": "iqQqBxD5fLzR"
      },
      "source": [
        "class UndergroundSystem:\n",
        "\n",
        "    def __init__(self):\n",
        "        self.check_in_data = {}\n",
        "        self.journey_data = collections.defaultdict(lambda : [0, 0])\n",
        "                \n",
        "    def checkIn(self, id: int, stationName: str, t: int) -> None:\n",
        "        self.check_in_data[id] = [stationName, t]\n",
        "\n",
        "    def checkOut(self, id: int, end_station: str, t: int) -> None:\n",
        "        # Access and remove the data for id. Note that removing it is actually\n",
        "        # optional, but we'll discuss the benefits of it in the space complexity\n",
        "        # analysis section.\n",
        "        start_station, start_time = self.check_in_data.pop(id)\n",
        "        self.journey_data[(start_station, end_station)][0] += (t - start_time)\n",
        "        self.journey_data[(start_station, end_station)][1] += 1\n",
        "            \n",
        "    def getAverageTime(self, start_station: str, end_station: str) -> float:\n",
        "        total_time, total_trips = self.journey_data[(start_station, end_station)]\n",
        "        # The average is simply the total divided by the number of trips.\n",
        "        return total_time / total_trips"
      ],
      "execution_count": null,
      "outputs": []
    },
    {
      "cell_type": "markdown",
      "metadata": {
        "id": "JEVRsA1W9iUz"
      },
      "source": [
        "## LRU Cache"
      ]
    },
    {
      "cell_type": "code",
      "metadata": {
        "id": "7rh1O9PY9kYj"
      },
      "source": [
        "class ListNode:\n",
        "    def __init__(self, key, value):\n",
        "        self.key = key\n",
        "        self.val = value\n",
        "        self.nxt = None\n",
        "        self.pre = None\n",
        "\n",
        "\n",
        "class LRUCache(OrderedDict):\n",
        "\n",
        "    def __init__(self, capacity):\n",
        "        \"\"\"\n",
        "        :type capacity: int\n",
        "        \"\"\"\n",
        "        self.capacity = capacity\n",
        "        self.dic = {}\n",
        "        self.size = 0\n",
        "        \n",
        "        self.head, self.tail = ListNode(-1,-1), ListNode(-2,-2)\n",
        "        \n",
        "        self.head.nxt = self.tail\n",
        "        self.tail.pre = self.head\n",
        "\n",
        "    def get(self, key):\n",
        "        \"\"\"\n",
        "        :type key: int\n",
        "        :rtype: int\n",
        "        \"\"\"\n",
        "        \n",
        "        node = self.dic.get(key, None)\n",
        "        \n",
        "        if not node:\n",
        "            return -1\n",
        "        \n",
        "        self.move_to_head(node)\n",
        "        \n",
        "        return node.val\n",
        "        \n",
        "\n",
        "    def put(self, key, value):\n",
        "        \"\"\"\n",
        "        :type key: int\n",
        "        :type value: int\n",
        "        :rtype: void\n",
        "        \"\"\"\n",
        "        \n",
        "        if key in self.dic:\n",
        "            node = self.dic[key]\n",
        "            node.val = value\n",
        "            self.move_to_head(node)\n",
        "        else:\n",
        "            node = ListNode(key, value)\n",
        "            \n",
        "            self.add_node(node)\n",
        "            self.dic[key] = node\n",
        "            \n",
        "            self.size += 1\n",
        "            \n",
        "            if self.size > self.capacity:\n",
        "                temp = self.pop_tail()\n",
        "                del self.dic[temp.key]\n",
        "                self.size -= 1\n",
        "          \n",
        "    def add_node(self, node):\n",
        "        \n",
        "        node.pre = self.head\n",
        "        node.nxt = self.head.nxt\n",
        "        \n",
        "        self.head.nxt = node\n",
        "        node.nxt.pre = node\n",
        "        \n",
        "    def remove_node(self, node):\n",
        "        ptl = node.pre\n",
        "        ptr = node.nxt\n",
        "        ptl.nxt = ptr\n",
        "        ptr.pre = ptl\n",
        "        \n",
        "    def move_to_head(self, node):\n",
        "        \n",
        "        self.remove_node(node)\n",
        "        self.add_node(node)\n",
        "        \n",
        "    def pop_tail(self):\n",
        "        \n",
        "        node = self.tail.pre\n",
        "        self.remove_node(node)\n",
        "        return node\n"
      ],
      "execution_count": null,
      "outputs": []
    },
    {
      "cell_type": "markdown",
      "metadata": {
        "id": "UJ4RKyxC9rsg"
      },
      "source": [
        "## LFU Cache"
      ]
    },
    {
      "cell_type": "code",
      "metadata": {
        "id": "A6w3y_hV-X2h"
      },
      "source": [
        ""
      ],
      "execution_count": null,
      "outputs": []
    },
    {
      "cell_type": "markdown",
      "metadata": {
        "id": "VjeAvXBzUvBE"
      },
      "source": [
        "## Shuffle an Array\n",
        "\n",
        "https://leetcode.com/problems/shuffle-an-array/"
      ]
    },
    {
      "cell_type": "code",
      "metadata": {
        "id": "KayFD4fwUxWQ"
      },
      "source": [
        "class Solution:\n",
        "    def __init__(self, nums):\n",
        "        self.array = nums\n",
        "        self.original = list(nums)\n",
        "\n",
        "    def reset(self):\n",
        "        self.array = self.original\n",
        "        self.original = list(self.original)\n",
        "        return self.array\n",
        "\n",
        "    def shuffle(self):\n",
        "        for i in range(len(self.array)):\n",
        "            swap_idx = random.randrange(i, len(self.array))\n",
        "            self.array[i], self.array[swap_idx] = self.array[swap_idx], self.array[i]\n",
        "        return self.array"
      ],
      "execution_count": null,
      "outputs": []
    },
    {
      "cell_type": "markdown",
      "metadata": {
        "id": "AAh5IO6mbRlX"
      },
      "source": [
        "## Design Browser History\n",
        "\n",
        "https://leetcode.com/problems/design-browser-history/"
      ]
    },
    {
      "cell_type": "code",
      "metadata": {
        "id": "PX7N57scbYqa"
      },
      "source": [
        "class BrowserHistory:\n",
        "\n",
        "    def __init__(self, homepage: str):\n",
        "        self.s = [homepage]\n",
        "        self.curr = 0\n",
        "        self.bound = self.curr\n",
        "\n",
        "    def visit(self, url: str) -> None:\n",
        "        self.curr += 1\n",
        "        if self.curr == len(self.s):\n",
        "            self.s.append(url)\n",
        "        else:\n",
        "            self.s[self.curr] = url\n",
        "        self.bound = self.curr\n",
        "        return\n",
        "\n",
        "    def back(self, steps: int) -> str:\n",
        "        self.curr = max(0, self.curr-steps)\n",
        "        return self.s[self.curr]\n",
        "\n",
        "    def forward(self, steps: int) -> str:\n",
        "        self.curr = min(self.bound, self.curr+steps)\n",
        "        return self.s[self.curr]"
      ],
      "execution_count": null,
      "outputs": []
    },
    {
      "cell_type": "markdown",
      "metadata": {
        "id": "YoVGSsFWSeEM"
      },
      "source": [
        "## Invalid Transaction\n",
        "\n",
        "https://leetcode.com/problems/invalid-transactions/"
      ]
    },
    {
      "cell_type": "code",
      "metadata": {
        "id": "f3uGdj0RSif1"
      },
      "source": [
        ""
      ],
      "execution_count": null,
      "outputs": []
    },
    {
      "cell_type": "markdown",
      "metadata": {
        "id": "bOqwmzQIZZRw"
      },
      "source": [
        "## Design a Leaderboard\n",
        "\n",
        "https://leetcode.com/problems/design-a-leaderboard/"
      ]
    },
    {
      "cell_type": "code",
      "metadata": {
        "id": "x01zS_qHZbiF"
      },
      "source": [
        "# __init__ is O(1)\n",
        "# addScore is O(1)\n",
        "# top is O(NlogK), can be improve to O(N)\n",
        "# reset is O(1)\n",
        "# Space O(N)\n",
        "\n",
        "class Leaderboard(object):\n",
        "\n",
        "    def __init__(self):\n",
        "        self.A = collections.Counter()\n",
        "\n",
        "    def addScore(self, playerId, score):\n",
        "        self.A[playerId] += score\n",
        "\n",
        "    def top(self, K):\n",
        "        return sum(v for i,v in self.A.most_common(K))\n",
        "\n",
        "    def reset(self, playerId):\n",
        "        self.A[playerId] = 0"
      ],
      "execution_count": null,
      "outputs": []
    },
    {
      "cell_type": "markdown",
      "metadata": {
        "id": "ZZY8esbA4YhG"
      },
      "source": [
        "## Design Bounded Blocking Queue\n",
        "\n",
        "https://leetcode.com/problems/design-bounded-blocking-queue/"
      ]
    },
    {
      "cell_type": "code",
      "metadata": {
        "id": "1NQHKAXg4bc8"
      },
      "source": [
        "'''并没看懂的奇怪题目'''"
      ],
      "execution_count": null,
      "outputs": []
    }
  ]
}